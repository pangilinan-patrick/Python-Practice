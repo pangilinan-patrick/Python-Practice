{
  "nbformat": 4,
  "nbformat_minor": 0,
  "metadata": {
    "colab": {
      "provenance": []
    },
    "kernelspec": {
      "name": "python3",
      "display_name": "Python 3"
    },
    "language_info": {
      "name": "python"
    }
  },
  "cells": [
    {
      "cell_type": "code",
      "execution_count": 4,
      "metadata": {
        "id": "5PacZsSwOfn1"
      },
      "outputs": [],
      "source": [
        "# Patrick A. Pangilinan\n",
        "# BSCS - C4A"
      ]
    },
    {
      "cell_type": "code",
      "source": [
        "import numpy as np\n",
        "import pandas as pd\n",
        "import matplotlib.pyplot as plt"
      ],
      "metadata": {
        "id": "z7Vupz3KOhER"
      },
      "execution_count": 5,
      "outputs": []
    },
    {
      "cell_type": "code",
      "source": [
        "# Loading the data set\n",
        "data_path = \"GT2.csv\"\n",
        "gamerdf = pd.read_csv(data_path)\n",
        "gamerdf.head()"
      ],
      "metadata": {
        "colab": {
          "base_uri": "https://localhost:8080/",
          "height": 206
        },
        "id": "8OiEguBbOiAZ",
        "outputId": "663b8872-4e3b-4dd7-e3b2-0961ad56eb15"
      },
      "execution_count": 6,
      "outputs": [
        {
          "output_type": "execute_result",
          "data": {
            "text/plain": [
              "    ITEM NO.      CPU   RAM Type of Storage Storage Capacity  GPU   \\\n",
              "0  2021-9301  Ryzen 5   4GB             SSD            500GB    NO   \n",
              "1  2021-9302  Ryzen 5  16GB             SSD            500GB  6GB    \n",
              "2  2021-9303  Ryzen 3   4GB             HDD              1TB    NO   \n",
              "3  2021-9304  Ryzen 5  16GB             SSD              1TB  4GB    \n",
              "4  2021-9305  Pentium  16GB             HDD            500GB   6GB   \n",
              "\n",
              "  Target Usage  \n",
              "0       Office  \n",
              "1       GAMING  \n",
              "2       Office  \n",
              "3       GAMING  \n",
              "4       Office  "
            ],
            "text/html": [
              "\n",
              "  <div id=\"df-c44026bf-86c7-4c7b-9522-2a000bbc4e40\">\n",
              "    <div class=\"colab-df-container\">\n",
              "      <div>\n",
              "<style scoped>\n",
              "    .dataframe tbody tr th:only-of-type {\n",
              "        vertical-align: middle;\n",
              "    }\n",
              "\n",
              "    .dataframe tbody tr th {\n",
              "        vertical-align: top;\n",
              "    }\n",
              "\n",
              "    .dataframe thead th {\n",
              "        text-align: right;\n",
              "    }\n",
              "</style>\n",
              "<table border=\"1\" class=\"dataframe\">\n",
              "  <thead>\n",
              "    <tr style=\"text-align: right;\">\n",
              "      <th></th>\n",
              "      <th>ITEM NO.</th>\n",
              "      <th>CPU</th>\n",
              "      <th>RAM</th>\n",
              "      <th>Type of Storage</th>\n",
              "      <th>Storage Capacity</th>\n",
              "      <th>GPU</th>\n",
              "      <th>Target Usage</th>\n",
              "    </tr>\n",
              "  </thead>\n",
              "  <tbody>\n",
              "    <tr>\n",
              "      <th>0</th>\n",
              "      <td>2021-9301</td>\n",
              "      <td>Ryzen 5</td>\n",
              "      <td>4GB</td>\n",
              "      <td>SSD</td>\n",
              "      <td>500GB</td>\n",
              "      <td>NO</td>\n",
              "      <td>Office</td>\n",
              "    </tr>\n",
              "    <tr>\n",
              "      <th>1</th>\n",
              "      <td>2021-9302</td>\n",
              "      <td>Ryzen 5</td>\n",
              "      <td>16GB</td>\n",
              "      <td>SSD</td>\n",
              "      <td>500GB</td>\n",
              "      <td>6GB</td>\n",
              "      <td>GAMING</td>\n",
              "    </tr>\n",
              "    <tr>\n",
              "      <th>2</th>\n",
              "      <td>2021-9303</td>\n",
              "      <td>Ryzen 3</td>\n",
              "      <td>4GB</td>\n",
              "      <td>HDD</td>\n",
              "      <td>1TB</td>\n",
              "      <td>NO</td>\n",
              "      <td>Office</td>\n",
              "    </tr>\n",
              "    <tr>\n",
              "      <th>3</th>\n",
              "      <td>2021-9304</td>\n",
              "      <td>Ryzen 5</td>\n",
              "      <td>16GB</td>\n",
              "      <td>SSD</td>\n",
              "      <td>1TB</td>\n",
              "      <td>4GB</td>\n",
              "      <td>GAMING</td>\n",
              "    </tr>\n",
              "    <tr>\n",
              "      <th>4</th>\n",
              "      <td>2021-9305</td>\n",
              "      <td>Pentium</td>\n",
              "      <td>16GB</td>\n",
              "      <td>HDD</td>\n",
              "      <td>500GB</td>\n",
              "      <td>6GB</td>\n",
              "      <td>Office</td>\n",
              "    </tr>\n",
              "  </tbody>\n",
              "</table>\n",
              "</div>\n",
              "      <button class=\"colab-df-convert\" onclick=\"convertToInteractive('df-c44026bf-86c7-4c7b-9522-2a000bbc4e40')\"\n",
              "              title=\"Convert this dataframe to an interactive table.\"\n",
              "              style=\"display:none;\">\n",
              "        \n",
              "  <svg xmlns=\"http://www.w3.org/2000/svg\" height=\"24px\"viewBox=\"0 0 24 24\"\n",
              "       width=\"24px\">\n",
              "    <path d=\"M0 0h24v24H0V0z\" fill=\"none\"/>\n",
              "    <path d=\"M18.56 5.44l.94 2.06.94-2.06 2.06-.94-2.06-.94-.94-2.06-.94 2.06-2.06.94zm-11 1L8.5 8.5l.94-2.06 2.06-.94-2.06-.94L8.5 2.5l-.94 2.06-2.06.94zm10 10l.94 2.06.94-2.06 2.06-.94-2.06-.94-.94-2.06-.94 2.06-2.06.94z\"/><path d=\"M17.41 7.96l-1.37-1.37c-.4-.4-.92-.59-1.43-.59-.52 0-1.04.2-1.43.59L10.3 9.45l-7.72 7.72c-.78.78-.78 2.05 0 2.83L4 21.41c.39.39.9.59 1.41.59.51 0 1.02-.2 1.41-.59l7.78-7.78 2.81-2.81c.8-.78.8-2.07 0-2.86zM5.41 20L4 18.59l7.72-7.72 1.47 1.35L5.41 20z\"/>\n",
              "  </svg>\n",
              "      </button>\n",
              "      \n",
              "  <style>\n",
              "    .colab-df-container {\n",
              "      display:flex;\n",
              "      flex-wrap:wrap;\n",
              "      gap: 12px;\n",
              "    }\n",
              "\n",
              "    .colab-df-convert {\n",
              "      background-color: #E8F0FE;\n",
              "      border: none;\n",
              "      border-radius: 50%;\n",
              "      cursor: pointer;\n",
              "      display: none;\n",
              "      fill: #1967D2;\n",
              "      height: 32px;\n",
              "      padding: 0 0 0 0;\n",
              "      width: 32px;\n",
              "    }\n",
              "\n",
              "    .colab-df-convert:hover {\n",
              "      background-color: #E2EBFA;\n",
              "      box-shadow: 0px 1px 2px rgba(60, 64, 67, 0.3), 0px 1px 3px 1px rgba(60, 64, 67, 0.15);\n",
              "      fill: #174EA6;\n",
              "    }\n",
              "\n",
              "    [theme=dark] .colab-df-convert {\n",
              "      background-color: #3B4455;\n",
              "      fill: #D2E3FC;\n",
              "    }\n",
              "\n",
              "    [theme=dark] .colab-df-convert:hover {\n",
              "      background-color: #434B5C;\n",
              "      box-shadow: 0px 1px 3px 1px rgba(0, 0, 0, 0.15);\n",
              "      filter: drop-shadow(0px 1px 2px rgba(0, 0, 0, 0.3));\n",
              "      fill: #FFFFFF;\n",
              "    }\n",
              "  </style>\n",
              "\n",
              "      <script>\n",
              "        const buttonEl =\n",
              "          document.querySelector('#df-c44026bf-86c7-4c7b-9522-2a000bbc4e40 button.colab-df-convert');\n",
              "        buttonEl.style.display =\n",
              "          google.colab.kernel.accessAllowed ? 'block' : 'none';\n",
              "\n",
              "        async function convertToInteractive(key) {\n",
              "          const element = document.querySelector('#df-c44026bf-86c7-4c7b-9522-2a000bbc4e40');\n",
              "          const dataTable =\n",
              "            await google.colab.kernel.invokeFunction('convertToInteractive',\n",
              "                                                     [key], {});\n",
              "          if (!dataTable) return;\n",
              "\n",
              "          const docLinkHtml = 'Like what you see? Visit the ' +\n",
              "            '<a target=\"_blank\" href=https://colab.research.google.com/notebooks/data_table.ipynb>data table notebook</a>'\n",
              "            + ' to learn more about interactive tables.';\n",
              "          element.innerHTML = '';\n",
              "          dataTable['output_type'] = 'display_data';\n",
              "          await google.colab.output.renderOutput(dataTable, element);\n",
              "          const docLink = document.createElement('div');\n",
              "          docLink.innerHTML = docLinkHtml;\n",
              "          element.appendChild(docLink);\n",
              "        }\n",
              "      </script>\n",
              "    </div>\n",
              "  </div>\n",
              "  "
            ]
          },
          "metadata": {},
          "execution_count": 6
        }
      ]
    },
    {
      "cell_type": "code",
      "source": [
        "# Drop null values to clean up dataset\n",
        "gamerdf = gamerdf.dropna()"
      ],
      "metadata": {
        "id": "9ni5OqAQOiwl"
      },
      "execution_count": 7,
      "outputs": []
    },
    {
      "cell_type": "code",
      "source": [
        "# Get the count of each item after null value deletion\n",
        "gamerdf.count()"
      ],
      "metadata": {
        "colab": {
          "base_uri": "https://localhost:8080/"
        },
        "id": "a47Lr-YyOjiw",
        "outputId": "62686be3-1ba8-43a3-e2ca-5ff5869490da"
      },
      "execution_count": 8,
      "outputs": [
        {
          "output_type": "execute_result",
          "data": {
            "text/plain": [
              "ITEM NO.            46\n",
              "CPU                 46\n",
              "RAM                 46\n",
              "Type of Storage     46\n",
              "Storage Capacity    46\n",
              "GPU                 46\n",
              "Target Usage        46\n",
              "dtype: int64"
            ]
          },
          "metadata": {},
          "execution_count": 8
        }
      ]
    },
    {
      "cell_type": "code",
      "source": [
        "# The dataframe has 46 rows and 7 columns\n",
        "gamerdf.shape"
      ],
      "metadata": {
        "colab": {
          "base_uri": "https://localhost:8080/"
        },
        "id": "b1k9DkvtOkM2",
        "outputId": "7fa5e5d7-e43d-474d-8c61-aa0ab9eb7e17"
      },
      "execution_count": 9,
      "outputs": [
        {
          "output_type": "execute_result",
          "data": {
            "text/plain": [
              "(46, 7)"
            ]
          },
          "metadata": {},
          "execution_count": 9
        }
      ]
    },
    {
      "cell_type": "code",
      "source": [
        "# The top CPU overall used is \"Pentium\" and it appears in the dataframe 10 times.\n",
        "# The most used ram size is \"4GB\" and it is used by 17 users in the dataframe.\n",
        "# The storage type most used is \"SSD\" and it is used by 29 users.\n",
        "# The top capacity size is \"500GB\" and it is used by 23 users.\n",
        "# The majority dont have a GPU in the dataframe having 17 users that don't use a GPU.\n",
        "# Lastly, there are more office users than gaming users with a total of 24 office users.\n",
        "gamerdf.describe()"
      ],
      "metadata": {
        "colab": {
          "base_uri": "https://localhost:8080/",
          "height": 175
        },
        "id": "CONrHTT3Ok5R",
        "outputId": "7039ba5b-4498-494f-ef06-0ace4799abf0"
      },
      "execution_count": 10,
      "outputs": [
        {
          "output_type": "execute_result",
          "data": {
            "text/plain": [
              "         ITEM NO.      CPU  RAM Type of Storage Storage Capacity GPU   \\\n",
              "count          46       46   46              46               46   46   \n",
              "unique         46        7    3               2                2    5   \n",
              "top     2021-9301  Pentium  4GB             SSD            500GB   NO   \n",
              "freq            1       10   17              29               23   17   \n",
              "\n",
              "       Target Usage  \n",
              "count            46  \n",
              "unique            2  \n",
              "top          Office  \n",
              "freq             24  "
            ],
            "text/html": [
              "\n",
              "  <div id=\"df-d1991a5f-eff1-4a97-97b2-f9368ce1bca1\">\n",
              "    <div class=\"colab-df-container\">\n",
              "      <div>\n",
              "<style scoped>\n",
              "    .dataframe tbody tr th:only-of-type {\n",
              "        vertical-align: middle;\n",
              "    }\n",
              "\n",
              "    .dataframe tbody tr th {\n",
              "        vertical-align: top;\n",
              "    }\n",
              "\n",
              "    .dataframe thead th {\n",
              "        text-align: right;\n",
              "    }\n",
              "</style>\n",
              "<table border=\"1\" class=\"dataframe\">\n",
              "  <thead>\n",
              "    <tr style=\"text-align: right;\">\n",
              "      <th></th>\n",
              "      <th>ITEM NO.</th>\n",
              "      <th>CPU</th>\n",
              "      <th>RAM</th>\n",
              "      <th>Type of Storage</th>\n",
              "      <th>Storage Capacity</th>\n",
              "      <th>GPU</th>\n",
              "      <th>Target Usage</th>\n",
              "    </tr>\n",
              "  </thead>\n",
              "  <tbody>\n",
              "    <tr>\n",
              "      <th>count</th>\n",
              "      <td>46</td>\n",
              "      <td>46</td>\n",
              "      <td>46</td>\n",
              "      <td>46</td>\n",
              "      <td>46</td>\n",
              "      <td>46</td>\n",
              "      <td>46</td>\n",
              "    </tr>\n",
              "    <tr>\n",
              "      <th>unique</th>\n",
              "      <td>46</td>\n",
              "      <td>7</td>\n",
              "      <td>3</td>\n",
              "      <td>2</td>\n",
              "      <td>2</td>\n",
              "      <td>5</td>\n",
              "      <td>2</td>\n",
              "    </tr>\n",
              "    <tr>\n",
              "      <th>top</th>\n",
              "      <td>2021-9301</td>\n",
              "      <td>Pentium</td>\n",
              "      <td>4GB</td>\n",
              "      <td>SSD</td>\n",
              "      <td>500GB</td>\n",
              "      <td>NO</td>\n",
              "      <td>Office</td>\n",
              "    </tr>\n",
              "    <tr>\n",
              "      <th>freq</th>\n",
              "      <td>1</td>\n",
              "      <td>10</td>\n",
              "      <td>17</td>\n",
              "      <td>29</td>\n",
              "      <td>23</td>\n",
              "      <td>17</td>\n",
              "      <td>24</td>\n",
              "    </tr>\n",
              "  </tbody>\n",
              "</table>\n",
              "</div>\n",
              "      <button class=\"colab-df-convert\" onclick=\"convertToInteractive('df-d1991a5f-eff1-4a97-97b2-f9368ce1bca1')\"\n",
              "              title=\"Convert this dataframe to an interactive table.\"\n",
              "              style=\"display:none;\">\n",
              "        \n",
              "  <svg xmlns=\"http://www.w3.org/2000/svg\" height=\"24px\"viewBox=\"0 0 24 24\"\n",
              "       width=\"24px\">\n",
              "    <path d=\"M0 0h24v24H0V0z\" fill=\"none\"/>\n",
              "    <path d=\"M18.56 5.44l.94 2.06.94-2.06 2.06-.94-2.06-.94-.94-2.06-.94 2.06-2.06.94zm-11 1L8.5 8.5l.94-2.06 2.06-.94-2.06-.94L8.5 2.5l-.94 2.06-2.06.94zm10 10l.94 2.06.94-2.06 2.06-.94-2.06-.94-.94-2.06-.94 2.06-2.06.94z\"/><path d=\"M17.41 7.96l-1.37-1.37c-.4-.4-.92-.59-1.43-.59-.52 0-1.04.2-1.43.59L10.3 9.45l-7.72 7.72c-.78.78-.78 2.05 0 2.83L4 21.41c.39.39.9.59 1.41.59.51 0 1.02-.2 1.41-.59l7.78-7.78 2.81-2.81c.8-.78.8-2.07 0-2.86zM5.41 20L4 18.59l7.72-7.72 1.47 1.35L5.41 20z\"/>\n",
              "  </svg>\n",
              "      </button>\n",
              "      \n",
              "  <style>\n",
              "    .colab-df-container {\n",
              "      display:flex;\n",
              "      flex-wrap:wrap;\n",
              "      gap: 12px;\n",
              "    }\n",
              "\n",
              "    .colab-df-convert {\n",
              "      background-color: #E8F0FE;\n",
              "      border: none;\n",
              "      border-radius: 50%;\n",
              "      cursor: pointer;\n",
              "      display: none;\n",
              "      fill: #1967D2;\n",
              "      height: 32px;\n",
              "      padding: 0 0 0 0;\n",
              "      width: 32px;\n",
              "    }\n",
              "\n",
              "    .colab-df-convert:hover {\n",
              "      background-color: #E2EBFA;\n",
              "      box-shadow: 0px 1px 2px rgba(60, 64, 67, 0.3), 0px 1px 3px 1px rgba(60, 64, 67, 0.15);\n",
              "      fill: #174EA6;\n",
              "    }\n",
              "\n",
              "    [theme=dark] .colab-df-convert {\n",
              "      background-color: #3B4455;\n",
              "      fill: #D2E3FC;\n",
              "    }\n",
              "\n",
              "    [theme=dark] .colab-df-convert:hover {\n",
              "      background-color: #434B5C;\n",
              "      box-shadow: 0px 1px 3px 1px rgba(0, 0, 0, 0.15);\n",
              "      filter: drop-shadow(0px 1px 2px rgba(0, 0, 0, 0.3));\n",
              "      fill: #FFFFFF;\n",
              "    }\n",
              "  </style>\n",
              "\n",
              "      <script>\n",
              "        const buttonEl =\n",
              "          document.querySelector('#df-d1991a5f-eff1-4a97-97b2-f9368ce1bca1 button.colab-df-convert');\n",
              "        buttonEl.style.display =\n",
              "          google.colab.kernel.accessAllowed ? 'block' : 'none';\n",
              "\n",
              "        async function convertToInteractive(key) {\n",
              "          const element = document.querySelector('#df-d1991a5f-eff1-4a97-97b2-f9368ce1bca1');\n",
              "          const dataTable =\n",
              "            await google.colab.kernel.invokeFunction('convertToInteractive',\n",
              "                                                     [key], {});\n",
              "          if (!dataTable) return;\n",
              "\n",
              "          const docLinkHtml = 'Like what you see? Visit the ' +\n",
              "            '<a target=\"_blank\" href=https://colab.research.google.com/notebooks/data_table.ipynb>data table notebook</a>'\n",
              "            + ' to learn more about interactive tables.';\n",
              "          element.innerHTML = '';\n",
              "          dataTable['output_type'] = 'display_data';\n",
              "          await google.colab.output.renderOutput(dataTable, element);\n",
              "          const docLink = document.createElement('div');\n",
              "          docLink.innerHTML = docLinkHtml;\n",
              "          element.appendChild(docLink);\n",
              "        }\n",
              "      </script>\n",
              "    </div>\n",
              "  </div>\n",
              "  "
            ]
          },
          "metadata": {},
          "execution_count": 10
        }
      ]
    },
    {
      "cell_type": "code",
      "source": [
        "#1. What CPU is mostly used in Gaming? \n",
        "# From the results of this table, the most frequently used CPU by the gamer legion is the almighty i9 with 7 gamers using it.\n",
        "# Followed by the Ryzen 5 and Ryzen 7. This shows that most gamers won't settle for less than an i9 processor if they want some serious gaming performance.\n",
        "\n",
        "# Filter the dataset for rows where Target Usage is 'GAMING'\n",
        "gaming_data = gamerdf[gamerdf['Target Usage'] == 'GAMING']\n",
        "\n",
        "# Use the value_counts() method to determine the frequency of each CPU in the gaming data\n",
        "cpu_counts = gaming_data['CPU'].value_counts()\n",
        "\n",
        "# Get the top 3 most used CPUs\n",
        "top_3_cpus = cpu_counts.head(3)\n",
        "\n",
        "# Create a table to show the top 3 most used CPUs and their frequency\n",
        "table = top_3_cpus.to_frame()\n",
        "table.reset_index(inplace=True)\n",
        "table.columns = ['CPU', 'Frequency']\n",
        "print(table)"
      ],
      "metadata": {
        "colab": {
          "base_uri": "https://localhost:8080/"
        },
        "id": "HiGqfbXPOl0W",
        "outputId": "113d4e8c-5e05-4cb2-8675-7fb3c9eec2fa"
      },
      "execution_count": 11,
      "outputs": [
        {
          "output_type": "stream",
          "name": "stdout",
          "text": [
            "       CPU  Frequency\n",
            "0       i9          7\n",
            "1  Ryzen 5          4\n",
            "2  Ryzen 7          4\n"
          ]
        }
      ]
    },
    {
      "cell_type": "code",
      "source": [
        "#2. How much gigabyte of RAM is usually used by gamers?\n",
        "# The results of this table shows that the most popular RAM size is 16GB with 14 gamers using it followed by 8GB.\n",
        "# It can also be noted that gamers won't settle for less than 8GB of RAM seeing as anything less would be limiting your gaming experience.\n",
        "\n",
        "# Use the value_counts() method to determine the frequency of each RAM size in the gaming data\n",
        "ram_counts = gaming_data['RAM'].value_counts()\n",
        "\n",
        "# Get the top most used RAM sizes\n",
        "top_ram = ram_counts.head(3)\n",
        "\n",
        "# Create a table to show the top most used RAM sizes and their frequency\n",
        "table = top_ram.to_frame()\n",
        "table.reset_index(inplace=True)\n",
        "table.columns = ['RAM (GB)', 'Frequency']\n",
        "print(table)"
      ],
      "metadata": {
        "colab": {
          "base_uri": "https://localhost:8080/"
        },
        "id": "Mn8M8yd0Om7O",
        "outputId": "811d6cc6-8e55-4516-8da7-fca0a4876955"
      },
      "execution_count": 12,
      "outputs": [
        {
          "output_type": "stream",
          "name": "stdout",
          "text": [
            "  RAM (GB)  Frequency\n",
            "0     16GB         14\n",
            "1      8GB          8\n"
          ]
        }
      ]
    },
    {
      "cell_type": "code",
      "source": [
        "#3. What CPU is mostly used in Office works?\n",
        "# Most office users use pentium with 10 users using it followed by the Ryzen 5 and Ryzen 3.\n",
        "# This goes to show that for most office work, a pentium suffices as they don't need that much processing power for most of the office duties.\n",
        "\n",
        "# Filter the dataset for rows where Target Usage is 'OFFICE'\n",
        "office_data = gamerdf[gamerdf['Target Usage'] == 'Office']\n",
        "\n",
        "# Use the value_counts() method to determine the frequency of each CPU in the office data\n",
        "cpu_counts_office = office_data['CPU'].value_counts()\n",
        "\n",
        "# Get the top 3 most used CPUs\n",
        "top_3_cpus_office = cpu_counts_office.head(3)\n",
        "\n",
        "# Create a table to show the top 3 most used CPUs and their frequency\n",
        "table = top_3_cpus_office.to_frame()\n",
        "table.reset_index(inplace=True)\n",
        "table.columns = ['CPU', 'Frequency']\n",
        "print(table)"
      ],
      "metadata": {
        "colab": {
          "base_uri": "https://localhost:8080/"
        },
        "id": "1f79MiwoOnzF",
        "outputId": "33c15955-f932-4092-efee-5853203f2ebb"
      },
      "execution_count": 13,
      "outputs": [
        {
          "output_type": "stream",
          "name": "stdout",
          "text": [
            "       CPU  Frequency\n",
            "0  Pentium         10\n",
            "1  Ryzen 5          4\n",
            "2  Ryzen 3          2\n"
          ]
        }
      ]
    },
    {
      "cell_type": "code",
      "source": [
        "#4. What is the predominant storage type used by gamers?\n",
        "# Lastly, a whopping majority of gamers choose to use SSDs with 20 gamers using it instead of an HDD.\n",
        "# This means that even though SSDs are more expensive per GB, most gamers still choose to use SSDs for the speed that it provides in reading data which is important for decreasing load times in games.\n",
        "\n",
        "# Filter the dataset for rows where Target Usage is 'GAMING'\n",
        "gaming_data = gamerdf[gamerdf['Target Usage'] == 'GAMING']\n",
        "\n",
        "# Use the value_counts() method to determine the frequency of each storage type in the gaming data\n",
        "storage_counts = gaming_data['Type of Storage'].value_counts()\n",
        "\n",
        "# Get the top storage types\n",
        "top_storage = storage_counts.head(3)\n",
        "\n",
        "# Create a table to show the top storage types and their frequency\n",
        "table = top_storage.to_frame()\n",
        "table.reset_index(inplace=True)\n",
        "table.columns = ['Storage Type', 'Frequency']\n",
        "print(table)"
      ],
      "metadata": {
        "colab": {
          "base_uri": "https://localhost:8080/"
        },
        "id": "hqKCRzmNOosu",
        "outputId": "a707c3b4-5f19-4213-be53-3e96864d9e10"
      },
      "execution_count": 14,
      "outputs": [
        {
          "output_type": "stream",
          "name": "stdout",
          "text": [
            "  Storage Type  Frequency\n",
            "0          SSD         20\n",
            "1          HDD          2\n"
          ]
        }
      ]
    },
    {
      "cell_type": "code",
      "source": [
        "# CLEANING DATA FOR TRAINING\n",
        "# Drop the item number column as it is irrelevant for training\n",
        "gamerdf = gamerdf.drop('ITEM NO.', axis=1)\n",
        "\n",
        "# ONE-HOT ENCODE THE CATEGORICAL VARIABLES\n",
        "# Get the column names of dataframe\n",
        "columns = gamerdf.columns.tolist()\n",
        "# Remove the column to not one-hot encode\n",
        "columns.remove('Target Usage')\n",
        "# One-hot encode all columns except 'Target Usage'\n",
        "gamerdf = pd.get_dummies(gamerdf, columns=columns)\n",
        "\n",
        "# Replace \"Office\" with 1 and \"GAMING\" with 0\n",
        "gamerdf[\"Target Usage\"] = gamerdf[\"Target Usage\"].replace(\"Office\", 1).replace(\"GAMING\", 0)\n",
        "gamerdf.head()"
      ],
      "metadata": {
        "colab": {
          "base_uri": "https://localhost:8080/",
          "height": 288
        },
        "id": "6pAu0GyVOpps",
        "outputId": "494c31b5-b69e-4d32-f837-99e8ca4bf42f"
      },
      "execution_count": 15,
      "outputs": [
        {
          "output_type": "execute_result",
          "data": {
            "text/plain": [
              "   Target Usage  CPU_Pentium  CPU_Ryzen 3  CPU_Ryzen 5  CPU_Ryzen 7  CPU_i5  \\\n",
              "0             1            0            0            1            0       0   \n",
              "1             0            0            0            1            0       0   \n",
              "2             1            0            1            0            0       0   \n",
              "3             0            0            0            1            0       0   \n",
              "4             1            1            0            0            0       0   \n",
              "\n",
              "   CPU_i7  CPU_i9  RAM_16GB  RAM_4GB  RAM_8GB  Type of Storage_HDD  \\\n",
              "0       0       0         0        1        0                    0   \n",
              "1       0       0         1        0        0                    0   \n",
              "2       0       0         0        1        0                    1   \n",
              "3       0       0         1        0        0                    0   \n",
              "4       0       0         1        0        0                    1   \n",
              "\n",
              "   Type of Storage_SSD  Storage Capacity_1TB  Storage Capacity_500GB  \\\n",
              "0                    1                     0                       1   \n",
              "1                    1                     0                       1   \n",
              "2                    0                     1                       0   \n",
              "3                    1                     1                       0   \n",
              "4                    0                     0                       1   \n",
              "\n",
              "   GPU _4GB  GPU _4GB   GPU _6GB  GPU _6GB   GPU _NO  \n",
              "0         0          0         0          0        1  \n",
              "1         0          0         0          1        0  \n",
              "2         0          0         0          0        1  \n",
              "3         0          1         0          0        0  \n",
              "4         0          0         1          0        0  "
            ],
            "text/html": [
              "\n",
              "  <div id=\"df-143afabe-8e76-474c-b755-06c7cb9aa5b9\">\n",
              "    <div class=\"colab-df-container\">\n",
              "      <div>\n",
              "<style scoped>\n",
              "    .dataframe tbody tr th:only-of-type {\n",
              "        vertical-align: middle;\n",
              "    }\n",
              "\n",
              "    .dataframe tbody tr th {\n",
              "        vertical-align: top;\n",
              "    }\n",
              "\n",
              "    .dataframe thead th {\n",
              "        text-align: right;\n",
              "    }\n",
              "</style>\n",
              "<table border=\"1\" class=\"dataframe\">\n",
              "  <thead>\n",
              "    <tr style=\"text-align: right;\">\n",
              "      <th></th>\n",
              "      <th>Target Usage</th>\n",
              "      <th>CPU_Pentium</th>\n",
              "      <th>CPU_Ryzen 3</th>\n",
              "      <th>CPU_Ryzen 5</th>\n",
              "      <th>CPU_Ryzen 7</th>\n",
              "      <th>CPU_i5</th>\n",
              "      <th>CPU_i7</th>\n",
              "      <th>CPU_i9</th>\n",
              "      <th>RAM_16GB</th>\n",
              "      <th>RAM_4GB</th>\n",
              "      <th>RAM_8GB</th>\n",
              "      <th>Type of Storage_HDD</th>\n",
              "      <th>Type of Storage_SSD</th>\n",
              "      <th>Storage Capacity_1TB</th>\n",
              "      <th>Storage Capacity_500GB</th>\n",
              "      <th>GPU _4GB</th>\n",
              "      <th>GPU _4GB</th>\n",
              "      <th>GPU _6GB</th>\n",
              "      <th>GPU _6GB</th>\n",
              "      <th>GPU _NO</th>\n",
              "    </tr>\n",
              "  </thead>\n",
              "  <tbody>\n",
              "    <tr>\n",
              "      <th>0</th>\n",
              "      <td>1</td>\n",
              "      <td>0</td>\n",
              "      <td>0</td>\n",
              "      <td>1</td>\n",
              "      <td>0</td>\n",
              "      <td>0</td>\n",
              "      <td>0</td>\n",
              "      <td>0</td>\n",
              "      <td>0</td>\n",
              "      <td>1</td>\n",
              "      <td>0</td>\n",
              "      <td>0</td>\n",
              "      <td>1</td>\n",
              "      <td>0</td>\n",
              "      <td>1</td>\n",
              "      <td>0</td>\n",
              "      <td>0</td>\n",
              "      <td>0</td>\n",
              "      <td>0</td>\n",
              "      <td>1</td>\n",
              "    </tr>\n",
              "    <tr>\n",
              "      <th>1</th>\n",
              "      <td>0</td>\n",
              "      <td>0</td>\n",
              "      <td>0</td>\n",
              "      <td>1</td>\n",
              "      <td>0</td>\n",
              "      <td>0</td>\n",
              "      <td>0</td>\n",
              "      <td>0</td>\n",
              "      <td>1</td>\n",
              "      <td>0</td>\n",
              "      <td>0</td>\n",
              "      <td>0</td>\n",
              "      <td>1</td>\n",
              "      <td>0</td>\n",
              "      <td>1</td>\n",
              "      <td>0</td>\n",
              "      <td>0</td>\n",
              "      <td>0</td>\n",
              "      <td>1</td>\n",
              "      <td>0</td>\n",
              "    </tr>\n",
              "    <tr>\n",
              "      <th>2</th>\n",
              "      <td>1</td>\n",
              "      <td>0</td>\n",
              "      <td>1</td>\n",
              "      <td>0</td>\n",
              "      <td>0</td>\n",
              "      <td>0</td>\n",
              "      <td>0</td>\n",
              "      <td>0</td>\n",
              "      <td>0</td>\n",
              "      <td>1</td>\n",
              "      <td>0</td>\n",
              "      <td>1</td>\n",
              "      <td>0</td>\n",
              "      <td>1</td>\n",
              "      <td>0</td>\n",
              "      <td>0</td>\n",
              "      <td>0</td>\n",
              "      <td>0</td>\n",
              "      <td>0</td>\n",
              "      <td>1</td>\n",
              "    </tr>\n",
              "    <tr>\n",
              "      <th>3</th>\n",
              "      <td>0</td>\n",
              "      <td>0</td>\n",
              "      <td>0</td>\n",
              "      <td>1</td>\n",
              "      <td>0</td>\n",
              "      <td>0</td>\n",
              "      <td>0</td>\n",
              "      <td>0</td>\n",
              "      <td>1</td>\n",
              "      <td>0</td>\n",
              "      <td>0</td>\n",
              "      <td>0</td>\n",
              "      <td>1</td>\n",
              "      <td>1</td>\n",
              "      <td>0</td>\n",
              "      <td>0</td>\n",
              "      <td>1</td>\n",
              "      <td>0</td>\n",
              "      <td>0</td>\n",
              "      <td>0</td>\n",
              "    </tr>\n",
              "    <tr>\n",
              "      <th>4</th>\n",
              "      <td>1</td>\n",
              "      <td>1</td>\n",
              "      <td>0</td>\n",
              "      <td>0</td>\n",
              "      <td>0</td>\n",
              "      <td>0</td>\n",
              "      <td>0</td>\n",
              "      <td>0</td>\n",
              "      <td>1</td>\n",
              "      <td>0</td>\n",
              "      <td>0</td>\n",
              "      <td>1</td>\n",
              "      <td>0</td>\n",
              "      <td>0</td>\n",
              "      <td>1</td>\n",
              "      <td>0</td>\n",
              "      <td>0</td>\n",
              "      <td>1</td>\n",
              "      <td>0</td>\n",
              "      <td>0</td>\n",
              "    </tr>\n",
              "  </tbody>\n",
              "</table>\n",
              "</div>\n",
              "      <button class=\"colab-df-convert\" onclick=\"convertToInteractive('df-143afabe-8e76-474c-b755-06c7cb9aa5b9')\"\n",
              "              title=\"Convert this dataframe to an interactive table.\"\n",
              "              style=\"display:none;\">\n",
              "        \n",
              "  <svg xmlns=\"http://www.w3.org/2000/svg\" height=\"24px\"viewBox=\"0 0 24 24\"\n",
              "       width=\"24px\">\n",
              "    <path d=\"M0 0h24v24H0V0z\" fill=\"none\"/>\n",
              "    <path d=\"M18.56 5.44l.94 2.06.94-2.06 2.06-.94-2.06-.94-.94-2.06-.94 2.06-2.06.94zm-11 1L8.5 8.5l.94-2.06 2.06-.94-2.06-.94L8.5 2.5l-.94 2.06-2.06.94zm10 10l.94 2.06.94-2.06 2.06-.94-2.06-.94-.94-2.06-.94 2.06-2.06.94z\"/><path d=\"M17.41 7.96l-1.37-1.37c-.4-.4-.92-.59-1.43-.59-.52 0-1.04.2-1.43.59L10.3 9.45l-7.72 7.72c-.78.78-.78 2.05 0 2.83L4 21.41c.39.39.9.59 1.41.59.51 0 1.02-.2 1.41-.59l7.78-7.78 2.81-2.81c.8-.78.8-2.07 0-2.86zM5.41 20L4 18.59l7.72-7.72 1.47 1.35L5.41 20z\"/>\n",
              "  </svg>\n",
              "      </button>\n",
              "      \n",
              "  <style>\n",
              "    .colab-df-container {\n",
              "      display:flex;\n",
              "      flex-wrap:wrap;\n",
              "      gap: 12px;\n",
              "    }\n",
              "\n",
              "    .colab-df-convert {\n",
              "      background-color: #E8F0FE;\n",
              "      border: none;\n",
              "      border-radius: 50%;\n",
              "      cursor: pointer;\n",
              "      display: none;\n",
              "      fill: #1967D2;\n",
              "      height: 32px;\n",
              "      padding: 0 0 0 0;\n",
              "      width: 32px;\n",
              "    }\n",
              "\n",
              "    .colab-df-convert:hover {\n",
              "      background-color: #E2EBFA;\n",
              "      box-shadow: 0px 1px 2px rgba(60, 64, 67, 0.3), 0px 1px 3px 1px rgba(60, 64, 67, 0.15);\n",
              "      fill: #174EA6;\n",
              "    }\n",
              "\n",
              "    [theme=dark] .colab-df-convert {\n",
              "      background-color: #3B4455;\n",
              "      fill: #D2E3FC;\n",
              "    }\n",
              "\n",
              "    [theme=dark] .colab-df-convert:hover {\n",
              "      background-color: #434B5C;\n",
              "      box-shadow: 0px 1px 3px 1px rgba(0, 0, 0, 0.15);\n",
              "      filter: drop-shadow(0px 1px 2px rgba(0, 0, 0, 0.3));\n",
              "      fill: #FFFFFF;\n",
              "    }\n",
              "  </style>\n",
              "\n",
              "      <script>\n",
              "        const buttonEl =\n",
              "          document.querySelector('#df-143afabe-8e76-474c-b755-06c7cb9aa5b9 button.colab-df-convert');\n",
              "        buttonEl.style.display =\n",
              "          google.colab.kernel.accessAllowed ? 'block' : 'none';\n",
              "\n",
              "        async function convertToInteractive(key) {\n",
              "          const element = document.querySelector('#df-143afabe-8e76-474c-b755-06c7cb9aa5b9');\n",
              "          const dataTable =\n",
              "            await google.colab.kernel.invokeFunction('convertToInteractive',\n",
              "                                                     [key], {});\n",
              "          if (!dataTable) return;\n",
              "\n",
              "          const docLinkHtml = 'Like what you see? Visit the ' +\n",
              "            '<a target=\"_blank\" href=https://colab.research.google.com/notebooks/data_table.ipynb>data table notebook</a>'\n",
              "            + ' to learn more about interactive tables.';\n",
              "          element.innerHTML = '';\n",
              "          dataTable['output_type'] = 'display_data';\n",
              "          await google.colab.output.renderOutput(dataTable, element);\n",
              "          const docLink = document.createElement('div');\n",
              "          docLink.innerHTML = docLinkHtml;\n",
              "          element.appendChild(docLink);\n",
              "        }\n",
              "      </script>\n",
              "    </div>\n",
              "  </div>\n",
              "  "
            ]
          },
          "metadata": {},
          "execution_count": 15
        }
      ]
    },
    {
      "cell_type": "code",
      "source": [
        "from keras.models import Sequential\n",
        "from keras.layers import Dense, Dropout\n",
        "from keras.utils import np_utils\n",
        "from sklearn.model_selection import train_test_split\n",
        "\n",
        "# Split the data into training and test sets\n",
        "x = gamerdf.drop(['Target Usage'], axis=1)\n",
        "y = gamerdf['Target Usage']\n",
        "x_train, x_test, y_train, y_test = train_test_split(x, y, test_size=0.3)"
      ],
      "metadata": {
        "id": "_BJfgb9wOqg_"
      },
      "execution_count": 16,
      "outputs": []
    },
    {
      "cell_type": "code",
      "source": [
        "# Create the model\n",
        "model = Sequential()\n",
        "# Create a dense layer with 16 units using relu activation\n",
        "model.add(Dense(16, input_dim=x_train.shape[1], activation='relu'))\n",
        "# Create a dropout layer with a dropout rate of 0.5 to prevent overfitting\n",
        "model.add(Dropout(0.5))\n",
        "model.add(Dense(16, activation='relu'))\n",
        "model.add(Dropout(0.5))\n",
        "# Use a sigmoid function for the classification of two classes, Office (1) and Gaming (0)\n",
        "model.add(Dense(1, activation='sigmoid'))\n",
        "\n",
        "# Compile and train the model with binary cross entropy for loss function\n",
        "model.compile(loss='binary_crossentropy', optimizer='adam', metrics=['accuracy'])\n",
        "history = model.fit(x_train, y_train, epochs=100, validation_data=(x_test, y_test))"
      ],
      "metadata": {
        "colab": {
          "base_uri": "https://localhost:8080/"
        },
        "id": "Auyee16LOrWD",
        "outputId": "90ae0540-edff-4bed-d9da-9f78d0758841"
      },
      "execution_count": 17,
      "outputs": [
        {
          "output_type": "stream",
          "name": "stdout",
          "text": [
            "Epoch 1/100\n",
            "1/1 [==============================] - 1s 989ms/step - loss: 0.9952 - accuracy: 0.5625 - val_loss: 0.7505 - val_accuracy: 0.5714\n",
            "Epoch 2/100\n",
            "1/1 [==============================] - 0s 29ms/step - loss: 0.8738 - accuracy: 0.4062 - val_loss: 0.7459 - val_accuracy: 0.5714\n",
            "Epoch 3/100\n",
            "1/1 [==============================] - 0s 29ms/step - loss: 1.0198 - accuracy: 0.5312 - val_loss: 0.7413 - val_accuracy: 0.5714\n",
            "Epoch 4/100\n",
            "1/1 [==============================] - 0s 29ms/step - loss: 0.9781 - accuracy: 0.4375 - val_loss: 0.7367 - val_accuracy: 0.5714\n",
            "Epoch 5/100\n",
            "1/1 [==============================] - 0s 33ms/step - loss: 0.8545 - accuracy: 0.5000 - val_loss: 0.7322 - val_accuracy: 0.5714\n",
            "Epoch 6/100\n",
            "1/1 [==============================] - 0s 32ms/step - loss: 0.8835 - accuracy: 0.4375 - val_loss: 0.7279 - val_accuracy: 0.5714\n",
            "Epoch 7/100\n",
            "1/1 [==============================] - 0s 28ms/step - loss: 0.9165 - accuracy: 0.4375 - val_loss: 0.7237 - val_accuracy: 0.5714\n",
            "Epoch 8/100\n",
            "1/1 [==============================] - 0s 49ms/step - loss: 0.7658 - accuracy: 0.5000 - val_loss: 0.7195 - val_accuracy: 0.5714\n",
            "Epoch 9/100\n",
            "1/1 [==============================] - 0s 29ms/step - loss: 0.8794 - accuracy: 0.4375 - val_loss: 0.7155 - val_accuracy: 0.5714\n",
            "Epoch 10/100\n",
            "1/1 [==============================] - 0s 49ms/step - loss: 0.7651 - accuracy: 0.4688 - val_loss: 0.7117 - val_accuracy: 0.5714\n",
            "Epoch 11/100\n",
            "1/1 [==============================] - 0s 28ms/step - loss: 0.8407 - accuracy: 0.4375 - val_loss: 0.7079 - val_accuracy: 0.5714\n",
            "Epoch 12/100\n",
            "1/1 [==============================] - 0s 31ms/step - loss: 0.8246 - accuracy: 0.4375 - val_loss: 0.7041 - val_accuracy: 0.5714\n",
            "Epoch 13/100\n",
            "1/1 [==============================] - 0s 30ms/step - loss: 0.9249 - accuracy: 0.4375 - val_loss: 0.7003 - val_accuracy: 0.5714\n",
            "Epoch 14/100\n",
            "1/1 [==============================] - 0s 32ms/step - loss: 0.9610 - accuracy: 0.4375 - val_loss: 0.6965 - val_accuracy: 0.5714\n",
            "Epoch 15/100\n",
            "1/1 [==============================] - 0s 31ms/step - loss: 1.0621 - accuracy: 0.4062 - val_loss: 0.6927 - val_accuracy: 0.5714\n",
            "Epoch 16/100\n",
            "1/1 [==============================] - 0s 30ms/step - loss: 0.7835 - accuracy: 0.5000 - val_loss: 0.6890 - val_accuracy: 0.5714\n",
            "Epoch 17/100\n",
            "1/1 [==============================] - 0s 32ms/step - loss: 0.8103 - accuracy: 0.4062 - val_loss: 0.6854 - val_accuracy: 0.5714\n",
            "Epoch 18/100\n",
            "1/1 [==============================] - 0s 33ms/step - loss: 0.7672 - accuracy: 0.5312 - val_loss: 0.6819 - val_accuracy: 0.5714\n",
            "Epoch 19/100\n",
            "1/1 [==============================] - 0s 30ms/step - loss: 0.7805 - accuracy: 0.5625 - val_loss: 0.6784 - val_accuracy: 0.5714\n",
            "Epoch 20/100\n",
            "1/1 [==============================] - 0s 31ms/step - loss: 0.7790 - accuracy: 0.5312 - val_loss: 0.6751 - val_accuracy: 0.5714\n",
            "Epoch 21/100\n",
            "1/1 [==============================] - 0s 36ms/step - loss: 0.8871 - accuracy: 0.5625 - val_loss: 0.6718 - val_accuracy: 0.5714\n",
            "Epoch 22/100\n",
            "1/1 [==============================] - 0s 29ms/step - loss: 0.8022 - accuracy: 0.3750 - val_loss: 0.6685 - val_accuracy: 0.5714\n",
            "Epoch 23/100\n",
            "1/1 [==============================] - 0s 28ms/step - loss: 0.7045 - accuracy: 0.5938 - val_loss: 0.6654 - val_accuracy: 0.5714\n",
            "Epoch 24/100\n",
            "1/1 [==============================] - 0s 30ms/step - loss: 0.6913 - accuracy: 0.5000 - val_loss: 0.6623 - val_accuracy: 0.6429\n",
            "Epoch 25/100\n",
            "1/1 [==============================] - 0s 30ms/step - loss: 0.8552 - accuracy: 0.5000 - val_loss: 0.6592 - val_accuracy: 0.6429\n",
            "Epoch 26/100\n",
            "1/1 [==============================] - 0s 33ms/step - loss: 0.7381 - accuracy: 0.5000 - val_loss: 0.6562 - val_accuracy: 0.6429\n",
            "Epoch 27/100\n",
            "1/1 [==============================] - 0s 28ms/step - loss: 0.7886 - accuracy: 0.5938 - val_loss: 0.6531 - val_accuracy: 0.6429\n",
            "Epoch 28/100\n",
            "1/1 [==============================] - 0s 29ms/step - loss: 0.7151 - accuracy: 0.5938 - val_loss: 0.6501 - val_accuracy: 0.6429\n",
            "Epoch 29/100\n",
            "1/1 [==============================] - 0s 30ms/step - loss: 0.7937 - accuracy: 0.5625 - val_loss: 0.6473 - val_accuracy: 0.7143\n",
            "Epoch 30/100\n",
            "1/1 [==============================] - 0s 28ms/step - loss: 0.7864 - accuracy: 0.5000 - val_loss: 0.6445 - val_accuracy: 0.7143\n",
            "Epoch 31/100\n",
            "1/1 [==============================] - 0s 30ms/step - loss: 0.6529 - accuracy: 0.5938 - val_loss: 0.6417 - val_accuracy: 0.7143\n",
            "Epoch 32/100\n",
            "1/1 [==============================] - 0s 32ms/step - loss: 0.7265 - accuracy: 0.5938 - val_loss: 0.6390 - val_accuracy: 0.7143\n",
            "Epoch 33/100\n",
            "1/1 [==============================] - 0s 30ms/step - loss: 0.7312 - accuracy: 0.5625 - val_loss: 0.6364 - val_accuracy: 0.7143\n",
            "Epoch 34/100\n",
            "1/1 [==============================] - 0s 30ms/step - loss: 0.8596 - accuracy: 0.3750 - val_loss: 0.6339 - val_accuracy: 0.7143\n",
            "Epoch 35/100\n",
            "1/1 [==============================] - 0s 43ms/step - loss: 0.6250 - accuracy: 0.6875 - val_loss: 0.6313 - val_accuracy: 0.7143\n",
            "Epoch 36/100\n",
            "1/1 [==============================] - 0s 40ms/step - loss: 0.7251 - accuracy: 0.4688 - val_loss: 0.6286 - val_accuracy: 0.7143\n",
            "Epoch 37/100\n",
            "1/1 [==============================] - 0s 47ms/step - loss: 0.8049 - accuracy: 0.5312 - val_loss: 0.6261 - val_accuracy: 0.7143\n",
            "Epoch 38/100\n",
            "1/1 [==============================] - 0s 31ms/step - loss: 0.7463 - accuracy: 0.5000 - val_loss: 0.6236 - val_accuracy: 0.7857\n",
            "Epoch 39/100\n",
            "1/1 [==============================] - 0s 39ms/step - loss: 0.7778 - accuracy: 0.5938 - val_loss: 0.6213 - val_accuracy: 0.7857\n",
            "Epoch 40/100\n",
            "1/1 [==============================] - 0s 31ms/step - loss: 0.7275 - accuracy: 0.5312 - val_loss: 0.6191 - val_accuracy: 0.7857\n",
            "Epoch 41/100\n",
            "1/1 [==============================] - 0s 31ms/step - loss: 0.6980 - accuracy: 0.5312 - val_loss: 0.6170 - val_accuracy: 0.7857\n",
            "Epoch 42/100\n",
            "1/1 [==============================] - 0s 29ms/step - loss: 0.6288 - accuracy: 0.5625 - val_loss: 0.6150 - val_accuracy: 0.8571\n",
            "Epoch 43/100\n",
            "1/1 [==============================] - 0s 31ms/step - loss: 0.7419 - accuracy: 0.6250 - val_loss: 0.6130 - val_accuracy: 0.8571\n",
            "Epoch 44/100\n",
            "1/1 [==============================] - 0s 35ms/step - loss: 0.7308 - accuracy: 0.5625 - val_loss: 0.6110 - val_accuracy: 0.8571\n",
            "Epoch 45/100\n",
            "1/1 [==============================] - 0s 29ms/step - loss: 0.7348 - accuracy: 0.5000 - val_loss: 0.6090 - val_accuracy: 0.8571\n",
            "Epoch 46/100\n",
            "1/1 [==============================] - 0s 30ms/step - loss: 0.6803 - accuracy: 0.4375 - val_loss: 0.6071 - val_accuracy: 0.8571\n",
            "Epoch 47/100\n",
            "1/1 [==============================] - 0s 31ms/step - loss: 0.6841 - accuracy: 0.5625 - val_loss: 0.6052 - val_accuracy: 0.8571\n",
            "Epoch 48/100\n",
            "1/1 [==============================] - 0s 30ms/step - loss: 0.6715 - accuracy: 0.5625 - val_loss: 0.6033 - val_accuracy: 0.8571\n",
            "Epoch 49/100\n",
            "1/1 [==============================] - 0s 36ms/step - loss: 0.6012 - accuracy: 0.6250 - val_loss: 0.6013 - val_accuracy: 0.8571\n",
            "Epoch 50/100\n",
            "1/1 [==============================] - 0s 33ms/step - loss: 0.5959 - accuracy: 0.6250 - val_loss: 0.5994 - val_accuracy: 0.8571\n",
            "Epoch 51/100\n",
            "1/1 [==============================] - 0s 30ms/step - loss: 0.6588 - accuracy: 0.5625 - val_loss: 0.5975 - val_accuracy: 0.8571\n",
            "Epoch 52/100\n",
            "1/1 [==============================] - 0s 31ms/step - loss: 0.6869 - accuracy: 0.6562 - val_loss: 0.5956 - val_accuracy: 0.8571\n",
            "Epoch 53/100\n",
            "1/1 [==============================] - 0s 29ms/step - loss: 0.6888 - accuracy: 0.5000 - val_loss: 0.5936 - val_accuracy: 0.8571\n",
            "Epoch 54/100\n",
            "1/1 [==============================] - 0s 30ms/step - loss: 0.6215 - accuracy: 0.6562 - val_loss: 0.5916 - val_accuracy: 0.8571\n",
            "Epoch 55/100\n",
            "1/1 [==============================] - 0s 37ms/step - loss: 0.7044 - accuracy: 0.5625 - val_loss: 0.5897 - val_accuracy: 0.8571\n",
            "Epoch 56/100\n",
            "1/1 [==============================] - 0s 28ms/step - loss: 0.6620 - accuracy: 0.5938 - val_loss: 0.5878 - val_accuracy: 0.8571\n",
            "Epoch 57/100\n",
            "1/1 [==============================] - 0s 28ms/step - loss: 0.6596 - accuracy: 0.5938 - val_loss: 0.5859 - val_accuracy: 0.8571\n",
            "Epoch 58/100\n",
            "1/1 [==============================] - 0s 28ms/step - loss: 0.5729 - accuracy: 0.6562 - val_loss: 0.5840 - val_accuracy: 0.8571\n",
            "Epoch 59/100\n",
            "1/1 [==============================] - 0s 35ms/step - loss: 0.6334 - accuracy: 0.7500 - val_loss: 0.5821 - val_accuracy: 0.8571\n",
            "Epoch 60/100\n",
            "1/1 [==============================] - 0s 30ms/step - loss: 0.6739 - accuracy: 0.5938 - val_loss: 0.5803 - val_accuracy: 0.8571\n",
            "Epoch 61/100\n",
            "1/1 [==============================] - 0s 28ms/step - loss: 0.6305 - accuracy: 0.5938 - val_loss: 0.5784 - val_accuracy: 0.8571\n",
            "Epoch 62/100\n",
            "1/1 [==============================] - 0s 30ms/step - loss: 0.5595 - accuracy: 0.6875 - val_loss: 0.5765 - val_accuracy: 0.8571\n",
            "Epoch 63/100\n",
            "1/1 [==============================] - 0s 29ms/step - loss: 0.6025 - accuracy: 0.6875 - val_loss: 0.5745 - val_accuracy: 0.8571\n",
            "Epoch 64/100\n",
            "1/1 [==============================] - 0s 37ms/step - loss: 0.6420 - accuracy: 0.6250 - val_loss: 0.5725 - val_accuracy: 0.8571\n",
            "Epoch 65/100\n",
            "1/1 [==============================] - 0s 28ms/step - loss: 0.6025 - accuracy: 0.7188 - val_loss: 0.5705 - val_accuracy: 0.8571\n",
            "Epoch 66/100\n",
            "1/1 [==============================] - 0s 30ms/step - loss: 0.6716 - accuracy: 0.5625 - val_loss: 0.5685 - val_accuracy: 0.8571\n",
            "Epoch 67/100\n",
            "1/1 [==============================] - 0s 30ms/step - loss: 0.6474 - accuracy: 0.5312 - val_loss: 0.5665 - val_accuracy: 0.8571\n",
            "Epoch 68/100\n",
            "1/1 [==============================] - 0s 31ms/step - loss: 0.5837 - accuracy: 0.6875 - val_loss: 0.5643 - val_accuracy: 0.8571\n",
            "Epoch 69/100\n",
            "1/1 [==============================] - 0s 30ms/step - loss: 0.5629 - accuracy: 0.7188 - val_loss: 0.5620 - val_accuracy: 0.8571\n",
            "Epoch 70/100\n",
            "1/1 [==============================] - 0s 34ms/step - loss: 0.6453 - accuracy: 0.5312 - val_loss: 0.5597 - val_accuracy: 0.8571\n",
            "Epoch 71/100\n",
            "1/1 [==============================] - 0s 29ms/step - loss: 0.5893 - accuracy: 0.7188 - val_loss: 0.5572 - val_accuracy: 0.8571\n",
            "Epoch 72/100\n",
            "1/1 [==============================] - 0s 31ms/step - loss: 0.6232 - accuracy: 0.6250 - val_loss: 0.5547 - val_accuracy: 0.8571\n",
            "Epoch 73/100\n",
            "1/1 [==============================] - 0s 31ms/step - loss: 0.6078 - accuracy: 0.5312 - val_loss: 0.5524 - val_accuracy: 0.8571\n",
            "Epoch 74/100\n",
            "1/1 [==============================] - 0s 32ms/step - loss: 0.6129 - accuracy: 0.7188 - val_loss: 0.5500 - val_accuracy: 0.8571\n",
            "Epoch 75/100\n",
            "1/1 [==============================] - 0s 30ms/step - loss: 0.6882 - accuracy: 0.5625 - val_loss: 0.5477 - val_accuracy: 0.8571\n",
            "Epoch 76/100\n",
            "1/1 [==============================] - 0s 30ms/step - loss: 0.6004 - accuracy: 0.5938 - val_loss: 0.5454 - val_accuracy: 0.8571\n",
            "Epoch 77/100\n",
            "1/1 [==============================] - 0s 29ms/step - loss: 0.5892 - accuracy: 0.6875 - val_loss: 0.5431 - val_accuracy: 0.8571\n",
            "Epoch 78/100\n",
            "1/1 [==============================] - 0s 30ms/step - loss: 0.6862 - accuracy: 0.4375 - val_loss: 0.5407 - val_accuracy: 0.8571\n",
            "Epoch 79/100\n",
            "1/1 [==============================] - 0s 33ms/step - loss: 0.6742 - accuracy: 0.5938 - val_loss: 0.5385 - val_accuracy: 0.8571\n",
            "Epoch 80/100\n",
            "1/1 [==============================] - 0s 29ms/step - loss: 0.6055 - accuracy: 0.5625 - val_loss: 0.5363 - val_accuracy: 0.8571\n",
            "Epoch 81/100\n",
            "1/1 [==============================] - 0s 29ms/step - loss: 0.6098 - accuracy: 0.6250 - val_loss: 0.5339 - val_accuracy: 0.8571\n",
            "Epoch 82/100\n",
            "1/1 [==============================] - 0s 30ms/step - loss: 0.5673 - accuracy: 0.7500 - val_loss: 0.5314 - val_accuracy: 0.8571\n",
            "Epoch 83/100\n",
            "1/1 [==============================] - 0s 30ms/step - loss: 0.6333 - accuracy: 0.5312 - val_loss: 0.5291 - val_accuracy: 0.9286\n",
            "Epoch 84/100\n",
            "1/1 [==============================] - 0s 30ms/step - loss: 0.5267 - accuracy: 0.7500 - val_loss: 0.5268 - val_accuracy: 0.9286\n",
            "Epoch 85/100\n",
            "1/1 [==============================] - 0s 32ms/step - loss: 0.6320 - accuracy: 0.5625 - val_loss: 0.5245 - val_accuracy: 0.9286\n",
            "Epoch 86/100\n",
            "1/1 [==============================] - 0s 28ms/step - loss: 0.6101 - accuracy: 0.5625 - val_loss: 0.5223 - val_accuracy: 0.9286\n",
            "Epoch 87/100\n",
            "1/1 [==============================] - 0s 35ms/step - loss: 0.5631 - accuracy: 0.6875 - val_loss: 0.5202 - val_accuracy: 0.9286\n",
            "Epoch 88/100\n",
            "1/1 [==============================] - 0s 37ms/step - loss: 0.5955 - accuracy: 0.6250 - val_loss: 0.5181 - val_accuracy: 0.9286\n",
            "Epoch 89/100\n",
            "1/1 [==============================] - 0s 31ms/step - loss: 0.5432 - accuracy: 0.7500 - val_loss: 0.5159 - val_accuracy: 0.9286\n",
            "Epoch 90/100\n",
            "1/1 [==============================] - 0s 31ms/step - loss: 0.5245 - accuracy: 0.6875 - val_loss: 0.5135 - val_accuracy: 0.9286\n",
            "Epoch 91/100\n",
            "1/1 [==============================] - 0s 30ms/step - loss: 0.5435 - accuracy: 0.7500 - val_loss: 0.5113 - val_accuracy: 0.9286\n",
            "Epoch 92/100\n",
            "1/1 [==============================] - 0s 34ms/step - loss: 0.5666 - accuracy: 0.6562 - val_loss: 0.5089 - val_accuracy: 0.9286\n",
            "Epoch 93/100\n",
            "1/1 [==============================] - 0s 45ms/step - loss: 0.5984 - accuracy: 0.5938 - val_loss: 0.5068 - val_accuracy: 0.9286\n",
            "Epoch 94/100\n",
            "1/1 [==============================] - 0s 34ms/step - loss: 0.6117 - accuracy: 0.7188 - val_loss: 0.5047 - val_accuracy: 0.9286\n",
            "Epoch 95/100\n",
            "1/1 [==============================] - 0s 30ms/step - loss: 0.5077 - accuracy: 0.7188 - val_loss: 0.5025 - val_accuracy: 0.9286\n",
            "Epoch 96/100\n",
            "1/1 [==============================] - 0s 32ms/step - loss: 0.6006 - accuracy: 0.6562 - val_loss: 0.5002 - val_accuracy: 1.0000\n",
            "Epoch 97/100\n",
            "1/1 [==============================] - 0s 33ms/step - loss: 0.5295 - accuracy: 0.6562 - val_loss: 0.4978 - val_accuracy: 1.0000\n",
            "Epoch 98/100\n",
            "1/1 [==============================] - 0s 34ms/step - loss: 0.5013 - accuracy: 0.8125 - val_loss: 0.4955 - val_accuracy: 1.0000\n",
            "Epoch 99/100\n",
            "1/1 [==============================] - 0s 33ms/step - loss: 0.5229 - accuracy: 0.6875 - val_loss: 0.4931 - val_accuracy: 1.0000\n",
            "Epoch 100/100\n",
            "1/1 [==============================] - 0s 30ms/step - loss: 0.4690 - accuracy: 0.7500 - val_loss: 0.4907 - val_accuracy: 1.0000\n"
          ]
        }
      ]
    },
    {
      "cell_type": "code",
      "source": [
        "# The model performed well on the test set, with a loss of around 0.5 and an accuracy of 1.00, according to this output.\n",
        "# This shows that the model can accurately and efficiently categorize the samples in the test set with 100% accuracy on the test sets.\n",
        "model.evaluate(x_test, y_test)"
      ],
      "metadata": {
        "colab": {
          "base_uri": "https://localhost:8080/"
        },
        "id": "udpUxMNBOs3H",
        "outputId": "2a72499f-3f64-4bd3-9204-d743bce61242"
      },
      "execution_count": 18,
      "outputs": [
        {
          "output_type": "stream",
          "name": "stdout",
          "text": [
            "1/1 [==============================] - 0s 20ms/step - loss: 0.4907 - accuracy: 1.0000\n"
          ]
        },
        {
          "output_type": "execute_result",
          "data": {
            "text/plain": [
              "[0.4907187819480896, 1.0]"
            ]
          },
          "metadata": {},
          "execution_count": 18
        }
      ]
    },
    {
      "cell_type": "code",
      "source": [
        "# The conclusion from this output is that the model has a relatively high accuracy hovering around 90% when tested on the training sets,\n",
        "# and an astounding 100% when evaluated on the test sets.\n",
        "# This means that the model has successfully learnt from the training set and is able to generalize data that it hasn't been seen before well.\n",
        "model.evaluate(x_train, y_train)"
      ],
      "metadata": {
        "colab": {
          "base_uri": "https://localhost:8080/"
        },
        "id": "elWQzQIaOtpd",
        "outputId": "338e1373-eb4a-4513-fbc9-659891504d21"
      },
      "execution_count": 19,
      "outputs": [
        {
          "output_type": "stream",
          "name": "stdout",
          "text": [
            "1/1 [==============================] - 0s 18ms/step - loss: 0.4856 - accuracy: 0.9062\n"
          ]
        },
        {
          "output_type": "execute_result",
          "data": {
            "text/plain": [
              "[0.4856456518173218, 0.90625]"
            ]
          },
          "metadata": {},
          "execution_count": 19
        }
      ]
    },
    {
      "cell_type": "code",
      "source": [
        "# Evaluating using confusion matrix\n",
        "import sklearn\n",
        "from sklearn.metrics import confusion_matrix\n",
        "ypred = (model.predict(x_test)>0.50).astype('int32')"
      ],
      "metadata": {
        "colab": {
          "base_uri": "https://localhost:8080/"
        },
        "id": "LmoBVO_UOuVg",
        "outputId": "1643fe8b-c7e6-4eb5-b57b-cc63a75ce4a3"
      },
      "execution_count": 20,
      "outputs": [
        {
          "output_type": "stream",
          "name": "stdout",
          "text": [
            "1/1 [==============================] - 0s 80ms/step\n"
          ]
        }
      ]
    },
    {
      "cell_type": "code",
      "source": [
        "# In the confusion matrix, the results came out to 6 true positives, 8 true negatives\n",
        "# From this it can be concluded that the model is able to correctly predict in 14 out of 14 cases, which results in a 100% accurate model.\n",
        "confusion_matrix(y_test, ypred)"
      ],
      "metadata": {
        "colab": {
          "base_uri": "https://localhost:8080/"
        },
        "id": "CkRV3_M_OvH2",
        "outputId": "a414b0e3-76b0-40c8-9c3c-75aebb26763f"
      },
      "execution_count": 21,
      "outputs": [
        {
          "output_type": "execute_result",
          "data": {
            "text/plain": [
              "array([[6, 0],\n",
              "       [0, 8]])"
            ]
          },
          "metadata": {},
          "execution_count": 21
        }
      ]
    },
    {
      "cell_type": "code",
      "source": [
        "# From this plot, you can notice the continual downward trend as the model continues learning and getting trained by the dataset\n",
        "# This signifies that the model gets accurate with more epochs\n",
        "# Plot the training loss\n",
        "plt.plot(history.history['loss'])\n",
        "plt.title('Training loss')\n",
        "plt.xlabel('Epoch')\n",
        "plt.ylabel('Loss')\n",
        "plt.show()"
      ],
      "metadata": {
        "colab": {
          "base_uri": "https://localhost:8080/",
          "height": 295
        },
        "id": "asMIc-l-OvsM",
        "outputId": "26a9c7b6-5894-460f-cc7e-0f84902db074"
      },
      "execution_count": 22,
      "outputs": [
        {
          "output_type": "display_data",
          "data": {
            "text/plain": [
              "<Figure size 432x288 with 1 Axes>"
            ],
            "image/png": "[encoded data removed]"
          },
          "metadata": {
            "needs_background": "light"
          }
        }
      ]
    },
    {
      "cell_type": "code",
      "source": [
        "# Here, you can see the accuracy of the model rising continually which shows a model learning as it goes through more iterations\n",
        "# Plot the training accuracy\n",
        "plt.plot(history.history['accuracy'])\n",
        "plt.title('Training accuracy')\n",
        "plt.xlabel('Epoch')\n",
        "plt.ylabel('Accuracy')\n",
        "plt.show()"
      ],
      "metadata": {
        "colab": {
          "base_uri": "https://localhost:8080/",
          "height": 295
        },
        "id": "bS9OQyXqOwrF",
        "outputId": "6a9cf8ad-ad27-4f2e-9402-72cd6c03ef6a"
      },
      "execution_count": 23,
      "outputs": [
        {
          "output_type": "display_data",
          "data": {
            "text/plain": [
              "<Figure size 432x288 with 1 Axes>"
            ],
            "image/png": "[encoded data removed]"
          },
          "metadata": {
            "needs_background": "light"
          }
        }
      ]
    },
    {
      "cell_type": "code",
      "source": [
        "# From the training set, it can also be seen the downward trend as the bot gets more and more trained with the training set\n",
        "# By the last epochs, the training loss is able to catch up with the validation loss.\n",
        "# Plot the training and validation loss\n",
        "plt.plot(history.history['loss'])\n",
        "plt.plot(history.history['val_loss'])\n",
        "plt.title('Training and validation loss')\n",
        "plt.xlabel('Epoch')\n",
        "plt.ylabel('Loss')\n",
        "plt.legend(['Training loss','Validation loss'])\n",
        "plt.show()"
      ],
      "metadata": {
        "colab": {
          "base_uri": "https://localhost:8080/",
          "height": 295
        },
        "id": "HdfG5w4pOxx9",
        "outputId": "0483f4f4-f0c4-4a9b-9ed2-f64abd0d4f68"
      },
      "execution_count": 24,
      "outputs": [
        {
          "output_type": "display_data",
          "data": {
            "text/plain": [
              "<Figure size 432x288 with 1 Axes>"
            ],
            "image/png": "[encoded data removed]"
          },
          "metadata": {
            "needs_background": "light"
          }
        }
      ]
    },
    {
      "cell_type": "code",
      "source": [
        "# Here, we compare the loss between the training and testing set\n",
        "# In both sets, the downward trend is also comparable between one another which shows an accurate model seeing as the training set was able to catch up with the testing sets.\n",
        "# Plotting the loss\n",
        "plt.plot(history.history['loss'])\n",
        "plt.plot(history.history['val_loss'])\n",
        "plt.title('Model Loss')\n",
        "plt.ylabel('Loss')\n",
        "plt.xlabel('Epoch')\n",
        "plt.legend(['Train', 'Test'], loc='upper right')\n",
        "plt.show()"
      ],
      "metadata": {
        "colab": {
          "base_uri": "https://localhost:8080/",
          "height": 295
        },
        "id": "D3GvtcqSOyut",
        "outputId": "55c1d3fb-fafb-4ea0-85bc-800699e02856"
      },
      "execution_count": 25,
      "outputs": [
        {
          "output_type": "display_data",
          "data": {
            "text/plain": [
              "<Figure size 432x288 with 1 Axes>"
            ],
            "image/png": "[encoded data removed]"
          },
          "metadata": {
            "needs_background": "light"
          }
        }
      ]
    }
  ]
}