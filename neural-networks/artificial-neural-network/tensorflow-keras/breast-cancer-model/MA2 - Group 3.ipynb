{
  "nbformat": 4,
  "nbformat_minor": 0,
  "metadata": {
    "colab": {
      "provenance": []
    },
    "kernelspec": {
      "name": "python3",
      "display_name": "Python 3"
    },
    "language_info": {
      "name": "python"
    }
  },
  "cells": [
    {
      "cell_type": "markdown",
      "source": [
        "<h1><b>GROUP 3</b></h1>\n",
        "<h2>Members:</h2>\n",
        "<h4>Antonio Julian Recto</h4>\n",
        "<h4>Gaerlan John Gutierrez</h4>\n",
        "<h4>John Robynn Hernandez</h4>\n",
        "<h4>Patrick Pangilinan</h4>\n",
        "<h4>Rob Ian Dimaculangan</h4>"
      ],
      "metadata": {
        "id": "KWXiePc6uQ4G"
      }
    },
    {
      "cell_type": "code",
      "execution_count": null,
      "metadata": {
        "id": "hgtt450kAf6R"
      },
      "outputs": [],
      "source": [
        "import numpy as np\n",
        "import pandas as pd\n",
        "import matplotlib.pyplot as plt"
      ]
    },
    {
      "cell_type": "code",
      "source": [
        "# From the dataset, we have the following columns:\n",
        "# class: Whether the patient had a recurrence of breast cancer or not\n",
        "# age: The age range of the patient\n",
        "# menopause: The menopause status of the patient (premeno: before menopause; ge40: using hormone replacement therapy to treat menopause symptoms; lt40: premature menopause at an age less than 40)\n",
        "# tumor-size: The size range of the tumor\n",
        "# inv-nodes: The number of invovled auxiliary nodes\n",
        "# node-caps: Whether the tumor had capsular penetration or not\n",
        "# deg-malig: The degree of malignancy of the tumor (1-3)\n",
        "# breast: The breast on which the tumor was located (left or right)\n",
        "# breast-quad: The quadrant of the breast in which the tumor was located\n",
        "# irradiat: Whether the patient received radiation therapy or not\n",
        "\n",
        "# Loading the data set\n",
        "data_path = \"breast-cancer.csv\"\n",
        "cancerdf = pd.read_csv(data_path)\n",
        "cancerdf.head()"
      ],
      "metadata": {
        "colab": {
          "base_uri": "https://localhost:8080/",
          "height": 206
        },
        "id": "VeOTAvRlO4mX",
        "outputId": "ea8667f3-4af0-4d0e-f48b-569488141eba"
      },
      "execution_count": null,
      "outputs": [
        {
          "output_type": "execute_result",
          "data": {
            "text/plain": [
              "                  class    age menopause tumor-size inv-nodes node-caps  \\\n",
              "0  no-recurrence-events  30-39   premeno      30-34       0-2        no   \n",
              "1  no-recurrence-events  40-49   premeno      20-24       0-2        no   \n",
              "2  no-recurrence-events  40-49   premeno      20-24       0-2        no   \n",
              "3  no-recurrence-events  60-69      ge40      15-19       0-2        no   \n",
              "4  no-recurrence-events  40-49   premeno        0-4       0-2        no   \n",
              "\n",
              "   deg-malig breast breast-quad irradiat  \n",
              "0          3   left    left_low       no  \n",
              "1          2  right    right_up       no  \n",
              "2          2   left    left_low       no  \n",
              "3          2  right     left_up       no  \n",
              "4          2  right   right_low       no  "
            ],
            "text/html": [
              "\n",
              "  <div id=\"df-542f0bd4-e6ab-42b9-9881-ad59c5590a3c\">\n",
              "    <div class=\"colab-df-container\">\n",
              "      <div>\n",
              "<style scoped>\n",
              "    .dataframe tbody tr th:only-of-type {\n",
              "        vertical-align: middle;\n",
              "    }\n",
              "\n",
              "    .dataframe tbody tr th {\n",
              "        vertical-align: top;\n",
              "    }\n",
              "\n",
              "    .dataframe thead th {\n",
              "        text-align: right;\n",
              "    }\n",
              "</style>\n",
              "<table border=\"1\" class=\"dataframe\">\n",
              "  <thead>\n",
              "    <tr style=\"text-align: right;\">\n",
              "      <th></th>\n",
              "      <th>class</th>\n",
              "      <th>age</th>\n",
              "      <th>menopause</th>\n",
              "      <th>tumor-size</th>\n",
              "      <th>inv-nodes</th>\n",
              "      <th>node-caps</th>\n",
              "      <th>deg-malig</th>\n",
              "      <th>breast</th>\n",
              "      <th>breast-quad</th>\n",
              "      <th>irradiat</th>\n",
              "    </tr>\n",
              "  </thead>\n",
              "  <tbody>\n",
              "    <tr>\n",
              "      <th>0</th>\n",
              "      <td>no-recurrence-events</td>\n",
              "      <td>30-39</td>\n",
              "      <td>premeno</td>\n",
              "      <td>30-34</td>\n",
              "      <td>0-2</td>\n",
              "      <td>no</td>\n",
              "      <td>3</td>\n",
              "      <td>left</td>\n",
              "      <td>left_low</td>\n",
              "      <td>no</td>\n",
              "    </tr>\n",
              "    <tr>\n",
              "      <th>1</th>\n",
              "      <td>no-recurrence-events</td>\n",
              "      <td>40-49</td>\n",
              "      <td>premeno</td>\n",
              "      <td>20-24</td>\n",
              "      <td>0-2</td>\n",
              "      <td>no</td>\n",
              "      <td>2</td>\n",
              "      <td>right</td>\n",
              "      <td>right_up</td>\n",
              "      <td>no</td>\n",
              "    </tr>\n",
              "    <tr>\n",
              "      <th>2</th>\n",
              "      <td>no-recurrence-events</td>\n",
              "      <td>40-49</td>\n",
              "      <td>premeno</td>\n",
              "      <td>20-24</td>\n",
              "      <td>0-2</td>\n",
              "      <td>no</td>\n",
              "      <td>2</td>\n",
              "      <td>left</td>\n",
              "      <td>left_low</td>\n",
              "      <td>no</td>\n",
              "    </tr>\n",
              "    <tr>\n",
              "      <th>3</th>\n",
              "      <td>no-recurrence-events</td>\n",
              "      <td>60-69</td>\n",
              "      <td>ge40</td>\n",
              "      <td>15-19</td>\n",
              "      <td>0-2</td>\n",
              "      <td>no</td>\n",
              "      <td>2</td>\n",
              "      <td>right</td>\n",
              "      <td>left_up</td>\n",
              "      <td>no</td>\n",
              "    </tr>\n",
              "    <tr>\n",
              "      <th>4</th>\n",
              "      <td>no-recurrence-events</td>\n",
              "      <td>40-49</td>\n",
              "      <td>premeno</td>\n",
              "      <td>0-4</td>\n",
              "      <td>0-2</td>\n",
              "      <td>no</td>\n",
              "      <td>2</td>\n",
              "      <td>right</td>\n",
              "      <td>right_low</td>\n",
              "      <td>no</td>\n",
              "    </tr>\n",
              "  </tbody>\n",
              "</table>\n",
              "</div>\n",
              "      <button class=\"colab-df-convert\" onclick=\"convertToInteractive('df-542f0bd4-e6ab-42b9-9881-ad59c5590a3c')\"\n",
              "              title=\"Convert this dataframe to an interactive table.\"\n",
              "              style=\"display:none;\">\n",
              "        \n",
              "  <svg xmlns=\"http://www.w3.org/2000/svg\" height=\"24px\"viewBox=\"0 0 24 24\"\n",
              "       width=\"24px\">\n",
              "    <path d=\"M0 0h24v24H0V0z\" fill=\"none\"/>\n",
              "    <path d=\"M18.56 5.44l.94 2.06.94-2.06 2.06-.94-2.06-.94-.94-2.06-.94 2.06-2.06.94zm-11 1L8.5 8.5l.94-2.06 2.06-.94-2.06-.94L8.5 2.5l-.94 2.06-2.06.94zm10 10l.94 2.06.94-2.06 2.06-.94-2.06-.94-.94-2.06-.94 2.06-2.06.94z\"/><path d=\"M17.41 7.96l-1.37-1.37c-.4-.4-.92-.59-1.43-.59-.52 0-1.04.2-1.43.59L10.3 9.45l-7.72 7.72c-.78.78-.78 2.05 0 2.83L4 21.41c.39.39.9.59 1.41.59.51 0 1.02-.2 1.41-.59l7.78-7.78 2.81-2.81c.8-.78.8-2.07 0-2.86zM5.41 20L4 18.59l7.72-7.72 1.47 1.35L5.41 20z\"/>\n",
              "  </svg>\n",
              "      </button>\n",
              "      \n",
              "  <style>\n",
              "    .colab-df-container {\n",
              "      display:flex;\n",
              "      flex-wrap:wrap;\n",
              "      gap: 12px;\n",
              "    }\n",
              "\n",
              "    .colab-df-convert {\n",
              "      background-color: #E8F0FE;\n",
              "      border: none;\n",
              "      border-radius: 50%;\n",
              "      cursor: pointer;\n",
              "      display: none;\n",
              "      fill: #1967D2;\n",
              "      height: 32px;\n",
              "      padding: 0 0 0 0;\n",
              "      width: 32px;\n",
              "    }\n",
              "\n",
              "    .colab-df-convert:hover {\n",
              "      background-color: #E2EBFA;\n",
              "      box-shadow: 0px 1px 2px rgba(60, 64, 67, 0.3), 0px 1px 3px 1px rgba(60, 64, 67, 0.15);\n",
              "      fill: #174EA6;\n",
              "    }\n",
              "\n",
              "    [theme=dark] .colab-df-convert {\n",
              "      background-color: #3B4455;\n",
              "      fill: #D2E3FC;\n",
              "    }\n",
              "\n",
              "    [theme=dark] .colab-df-convert:hover {\n",
              "      background-color: #434B5C;\n",
              "      box-shadow: 0px 1px 3px 1px rgba(0, 0, 0, 0.15);\n",
              "      filter: drop-shadow(0px 1px 2px rgba(0, 0, 0, 0.3));\n",
              "      fill: #FFFFFF;\n",
              "    }\n",
              "  </style>\n",
              "\n",
              "      <script>\n",
              "        const buttonEl =\n",
              "          document.querySelector('#df-542f0bd4-e6ab-42b9-9881-ad59c5590a3c button.colab-df-convert');\n",
              "        buttonEl.style.display =\n",
              "          google.colab.kernel.accessAllowed ? 'block' : 'none';\n",
              "\n",
              "        async function convertToInteractive(key) {\n",
              "          const element = document.querySelector('#df-542f0bd4-e6ab-42b9-9881-ad59c5590a3c');\n",
              "          const dataTable =\n",
              "            await google.colab.kernel.invokeFunction('convertToInteractive',\n",
              "                                                     [key], {});\n",
              "          if (!dataTable) return;\n",
              "\n",
              "          const docLinkHtml = 'Like what you see? Visit the ' +\n",
              "            '<a target=\"_blank\" href=https://colab.research.google.com/notebooks/data_table.ipynb>data table notebook</a>'\n",
              "            + ' to learn more about interactive tables.';\n",
              "          element.innerHTML = '';\n",
              "          dataTable['output_type'] = 'display_data';\n",
              "          await google.colab.output.renderOutput(dataTable, element);\n",
              "          const docLink = document.createElement('div');\n",
              "          docLink.innerHTML = docLinkHtml;\n",
              "          element.appendChild(docLink);\n",
              "        }\n",
              "      </script>\n",
              "    </div>\n",
              "  </div>\n",
              "  "
            ]
          },
          "metadata": {},
          "execution_count": 2
        }
      ]
    },
    {
      "cell_type": "code",
      "source": [
        "# Drop null rows\n",
        "cancerdf = cancerdf.replace('?', np.nan)\n",
        "cancerdf = cancerdf.dropna()"
      ],
      "metadata": {
        "id": "oFQYDreRPWhe"
      },
      "execution_count": null,
      "outputs": []
    },
    {
      "cell_type": "code",
      "source": [
        "# The dataframe has 277 rows and 10 columns\n",
        "cancerdf.shape"
      ],
      "metadata": {
        "id": "BrZCbs3dPfS_",
        "colab": {
          "base_uri": "https://localhost:8080/"
        },
        "outputId": "5edec020-0cbc-4ddf-af39-dfb891999cb3"
      },
      "execution_count": null,
      "outputs": [
        {
          "output_type": "execute_result",
          "data": {
            "text/plain": [
              "(277, 10)"
            ]
          },
          "metadata": {},
          "execution_count": 4
        }
      ]
    },
    {
      "cell_type": "code",
      "source": [
        "# All columns have 277 non-NA/null values, which means that there are no missing values in the dataframe\n",
        "cancerdf.count()"
      ],
      "metadata": {
        "id": "Sv2_hf2mPg9D",
        "colab": {
          "base_uri": "https://localhost:8080/"
        },
        "outputId": "634eeaf6-b79c-4503-cfa9-69f78e9df6ec"
      },
      "execution_count": null,
      "outputs": [
        {
          "output_type": "execute_result",
          "data": {
            "text/plain": [
              "class          277\n",
              "age            277\n",
              "menopause      277\n",
              "tumor-size     277\n",
              "inv-nodes      277\n",
              "node-caps      277\n",
              "deg-malig      277\n",
              "breast         277\n",
              "breast-quad    277\n",
              "irradiat       277\n",
              "dtype: int64"
            ]
          },
          "metadata": {},
          "execution_count": 5
        }
      ]
    },
    {
      "cell_type": "code",
      "source": [
        "# This function is only showing the statistics for the \"deg-malig\" column because it is the only numerical column, not in a string form in the dataframe.\n",
        "# With that being said, it shows that there are 277 observations in the column, with a mean of 2.057762,\n",
        "# a standard deviation of 0.729989, a minimum value of 1, a maximum value of 3, and the 25th, 50th, and 75th percentiles are 2.000000, 2.000000, and 3.000000 respectively.\n",
        "# It can also be inferred that the most common value in the column is 2.\n",
        "cancerdf.describe()"
      ],
      "metadata": {
        "id": "sKU_nc4jPm5y",
        "colab": {
          "base_uri": "https://localhost:8080/",
          "height": 300
        },
        "outputId": "9521ec3b-63f8-4173-f1ae-2ed493fa30b5"
      },
      "execution_count": null,
      "outputs": [
        {
          "output_type": "execute_result",
          "data": {
            "text/plain": [
              "        deg-malig\n",
              "count  277.000000\n",
              "mean     2.057762\n",
              "std      0.729989\n",
              "min      1.000000\n",
              "25%      2.000000\n",
              "50%      2.000000\n",
              "75%      3.000000\n",
              "max      3.000000"
            ],
            "text/html": [
              "\n",
              "  <div id=\"df-842fdb59-3080-4cbe-9236-d132a70cec36\">\n",
              "    <div class=\"colab-df-container\">\n",
              "      <div>\n",
              "<style scoped>\n",
              "    .dataframe tbody tr th:only-of-type {\n",
              "        vertical-align: middle;\n",
              "    }\n",
              "\n",
              "    .dataframe tbody tr th {\n",
              "        vertical-align: top;\n",
              "    }\n",
              "\n",
              "    .dataframe thead th {\n",
              "        text-align: right;\n",
              "    }\n",
              "</style>\n",
              "<table border=\"1\" class=\"dataframe\">\n",
              "  <thead>\n",
              "    <tr style=\"text-align: right;\">\n",
              "      <th></th>\n",
              "      <th>deg-malig</th>\n",
              "    </tr>\n",
              "  </thead>\n",
              "  <tbody>\n",
              "    <tr>\n",
              "      <th>count</th>\n",
              "      <td>277.000000</td>\n",
              "    </tr>\n",
              "    <tr>\n",
              "      <th>mean</th>\n",
              "      <td>2.057762</td>\n",
              "    </tr>\n",
              "    <tr>\n",
              "      <th>std</th>\n",
              "      <td>0.729989</td>\n",
              "    </tr>\n",
              "    <tr>\n",
              "      <th>min</th>\n",
              "      <td>1.000000</td>\n",
              "    </tr>\n",
              "    <tr>\n",
              "      <th>25%</th>\n",
              "      <td>2.000000</td>\n",
              "    </tr>\n",
              "    <tr>\n",
              "      <th>50%</th>\n",
              "      <td>2.000000</td>\n",
              "    </tr>\n",
              "    <tr>\n",
              "      <th>75%</th>\n",
              "      <td>3.000000</td>\n",
              "    </tr>\n",
              "    <tr>\n",
              "      <th>max</th>\n",
              "      <td>3.000000</td>\n",
              "    </tr>\n",
              "  </tbody>\n",
              "</table>\n",
              "</div>\n",
              "      <button class=\"colab-df-convert\" onclick=\"convertToInteractive('df-842fdb59-3080-4cbe-9236-d132a70cec36')\"\n",
              "              title=\"Convert this dataframe to an interactive table.\"\n",
              "              style=\"display:none;\">\n",
              "        \n",
              "  <svg xmlns=\"http://www.w3.org/2000/svg\" height=\"24px\"viewBox=\"0 0 24 24\"\n",
              "       width=\"24px\">\n",
              "    <path d=\"M0 0h24v24H0V0z\" fill=\"none\"/>\n",
              "    <path d=\"M18.56 5.44l.94 2.06.94-2.06 2.06-.94-2.06-.94-.94-2.06-.94 2.06-2.06.94zm-11 1L8.5 8.5l.94-2.06 2.06-.94-2.06-.94L8.5 2.5l-.94 2.06-2.06.94zm10 10l.94 2.06.94-2.06 2.06-.94-2.06-.94-.94-2.06-.94 2.06-2.06.94z\"/><path d=\"M17.41 7.96l-1.37-1.37c-.4-.4-.92-.59-1.43-.59-.52 0-1.04.2-1.43.59L10.3 9.45l-7.72 7.72c-.78.78-.78 2.05 0 2.83L4 21.41c.39.39.9.59 1.41.59.51 0 1.02-.2 1.41-.59l7.78-7.78 2.81-2.81c.8-.78.8-2.07 0-2.86zM5.41 20L4 18.59l7.72-7.72 1.47 1.35L5.41 20z\"/>\n",
              "  </svg>\n",
              "      </button>\n",
              "      \n",
              "  <style>\n",
              "    .colab-df-container {\n",
              "      display:flex;\n",
              "      flex-wrap:wrap;\n",
              "      gap: 12px;\n",
              "    }\n",
              "\n",
              "    .colab-df-convert {\n",
              "      background-color: #E8F0FE;\n",
              "      border: none;\n",
              "      border-radius: 50%;\n",
              "      cursor: pointer;\n",
              "      display: none;\n",
              "      fill: #1967D2;\n",
              "      height: 32px;\n",
              "      padding: 0 0 0 0;\n",
              "      width: 32px;\n",
              "    }\n",
              "\n",
              "    .colab-df-convert:hover {\n",
              "      background-color: #E2EBFA;\n",
              "      box-shadow: 0px 1px 2px rgba(60, 64, 67, 0.3), 0px 1px 3px 1px rgba(60, 64, 67, 0.15);\n",
              "      fill: #174EA6;\n",
              "    }\n",
              "\n",
              "    [theme=dark] .colab-df-convert {\n",
              "      background-color: #3B4455;\n",
              "      fill: #D2E3FC;\n",
              "    }\n",
              "\n",
              "    [theme=dark] .colab-df-convert:hover {\n",
              "      background-color: #434B5C;\n",
              "      box-shadow: 0px 1px 3px 1px rgba(0, 0, 0, 0.15);\n",
              "      filter: drop-shadow(0px 1px 2px rgba(0, 0, 0, 0.3));\n",
              "      fill: #FFFFFF;\n",
              "    }\n",
              "  </style>\n",
              "\n",
              "      <script>\n",
              "        const buttonEl =\n",
              "          document.querySelector('#df-842fdb59-3080-4cbe-9236-d132a70cec36 button.colab-df-convert');\n",
              "        buttonEl.style.display =\n",
              "          google.colab.kernel.accessAllowed ? 'block' : 'none';\n",
              "\n",
              "        async function convertToInteractive(key) {\n",
              "          const element = document.querySelector('#df-842fdb59-3080-4cbe-9236-d132a70cec36');\n",
              "          const dataTable =\n",
              "            await google.colab.kernel.invokeFunction('convertToInteractive',\n",
              "                                                     [key], {});\n",
              "          if (!dataTable) return;\n",
              "\n",
              "          const docLinkHtml = 'Like what you see? Visit the ' +\n",
              "            '<a target=\"_blank\" href=https://colab.research.google.com/notebooks/data_table.ipynb>data table notebook</a>'\n",
              "            + ' to learn more about interactive tables.';\n",
              "          element.innerHTML = '';\n",
              "          dataTable['output_type'] = 'display_data';\n",
              "          await google.colab.output.renderOutput(dataTable, element);\n",
              "          const docLink = document.createElement('div');\n",
              "          docLink.innerHTML = docLinkHtml;\n",
              "          element.appendChild(docLink);\n",
              "        }\n",
              "      </script>\n",
              "    </div>\n",
              "  </div>\n",
              "  "
            ]
          },
          "metadata": {},
          "execution_count": 6
        }
      ]
    },
    {
      "cell_type": "code",
      "source": [
        "# 1. What is the most prominent number of involved auxillary nodes among patients with recurrent cancer?\n",
        "# Filter the dataset for rows where class is 'recurrence-events'\n",
        "top_3_inv = cancerdf[cancerdf['class'] == 'recurrence-events']\n",
        "\n",
        "# Use the value_counts() method to determine the frequency of each inv-nodes\n",
        "inv_counts = top_3_inv['inv-nodes'].value_counts()\n",
        "\n",
        "# Get the top 3 inv-nodes range\n",
        "top_3_inv = inv_counts.head(3)\n",
        "\n",
        "# Create a table to show the top 3 inv-nodes\n",
        "table = top_3_inv.to_frame()\n",
        "table.reset_index(inplace=True)\n",
        "table.columns = ['inv-nodes', 'Frequency']\n",
        "print(table)\n",
        "\n",
        "# This shows that the most common inv-nodes value is 0-2, with 43 occurrences, followed by 3-5 with 17 occurrences, and 6-8 with 10 occurrences.\n",
        "# It is also possible to infer that most of the patients in this dataset have 0-2 involved auxiliary nodes. "
      ],
      "metadata": {
        "colab": {
          "base_uri": "https://localhost:8080/"
        },
        "id": "929jIebsnIj3",
        "outputId": "3edb02dd-8d1d-480f-cc58-ee52299c4856"
      },
      "execution_count": null,
      "outputs": [
        {
          "output_type": "stream",
          "name": "stdout",
          "text": [
            "  inv-nodes  Frequency\n",
            "0       0-2         43\n",
            "1       3-5         17\n",
            "2       6-8         10\n"
          ]
        }
      ]
    },
    {
      "cell_type": "code",
      "source": [
        "# 2. How many patients with recurrent cancer have premenopause status vs non-recurrent patients?\n",
        "# Count the number of patients with recurrence-events that have premenopause status\n",
        "rec_count = cancerdf[(cancerdf[\"class\"] == \"recurrence-events\") & (cancerdf[\"menopause\"] == \"premeno\")].shape[0]\n",
        "\n",
        "# Count the number of patients with non-recurrence-events that have premenopause status\n",
        "non_rec_count = cancerdf[(cancerdf[\"class\"] == \"no-recurrence-events\") & (cancerdf[\"menopause\"] == \"premeno\")].shape[0]\n",
        "\n",
        "# Create a table to compare the counts\n",
        "table = pd.DataFrame({\"Patient Type\": [\"Recurrent w/ Premenopause\", \"Non-Recurrent w/ Premenopause\"], \"Count\": [rec_count, non_rec_count]})\n",
        "\n",
        "# Print the table\n",
        "print(table)\n",
        "\n",
        "# This indicates that there are 48 patients in the recurrent group and 101 patients in the non-recurrent group who have premenopause status.\n",
        "# It can be said that there are less occurrences of premenopause in patients that have recurrent cancer, which may have potential implication on the chances\n",
        "# of having recurrent cancer"
      ],
      "metadata": {
        "colab": {
          "base_uri": "https://localhost:8080/"
        },
        "id": "pHSMi5qxsYEY",
        "outputId": "15a3ca42-e19b-40f5-b737-7ab378ee82eb"
      },
      "execution_count": null,
      "outputs": [
        {
          "output_type": "stream",
          "name": "stdout",
          "text": [
            "                    Patient Type  Count\n",
            "0      Recurrent w/ Premenopause     48\n",
            "1  Non-Recurrent w/ Premenopause    101\n"
          ]
        }
      ]
    },
    {
      "cell_type": "code",
      "source": [
        "# 3. In which side does breast cancer occur among patients with non-recurrent cancer vs patients with recurrent cancer?\n",
        "# Create a pivot table to display the data\n",
        "pivot_table = cancerdf.pivot_table(index='class', columns='breast', aggfunc='size')\n",
        "\n",
        "# Display the pivot table\n",
        "print(pivot_table)\n",
        "\n",
        "# The output shows that there are 100 occurrences of breast cancer on the left side and 96 occurrences on the right side among patients with non-recurrent cancer.\n",
        "# On the other hand, there are 45 occurrences of breast cancer on the left side and 36 occurrences on the right side among patients with recurrent cancer.\n",
        "# Overall, it seems that breast cancer is more common on the left side, with 145 occurrences, and 132 occurrences on the right side in total."
      ],
      "metadata": {
        "colab": {
          "base_uri": "https://localhost:8080/"
        },
        "id": "B69_DE0RxNlw",
        "outputId": "30be3161-d54a-435b-bef5-354096809041"
      },
      "execution_count": null,
      "outputs": [
        {
          "output_type": "stream",
          "name": "stdout",
          "text": [
            "breast                left  right\n",
            "class                            \n",
            "no-recurrence-events   100     96\n",
            "recurrence-events       45     36\n"
          ]
        }
      ]
    },
    {
      "cell_type": "code",
      "source": [
        "# 4. What is the most common age range for patients with non-recurrent cancer vs patients with recurrent cancer?\n",
        "# Create a new column and dataframe for age ranges \n",
        "cancerdf_age = cancerdf\n",
        "cancerdf_age['age_range'] = cancerdf['age'].apply(lambda x: x.split(\"-\")[0] + \"-\" + x.split(\"-\")[1])\n",
        "\n",
        "# Group the data by recurrence and age range\n",
        "grouped = cancerdf_age.groupby(['class', 'age_range']).size().reset_index(name='counts')\n",
        "\n",
        "# Get the top 3 age ranges for non-recurrent cancer\n",
        "non_recurrent = grouped[grouped['class'] == 'no-recurrence-events'].sort_values(by='counts', ascending=False).head(3)\n",
        "\n",
        "# Get the top 3 age ranges for recurrent cancer\n",
        "recurrent = grouped[grouped['class'] == 'recurrence-events'].sort_values(by='counts', ascending=False).head(3)\n",
        "\n",
        "print(\"Top 3 age ranges for non-recurrent cancer:\")\n",
        "print(non_recurrent)\n",
        "\n",
        "print(\"\\nTop 3 age ranges for recurrent cancer:\")\n",
        "print(recurrent)\n",
        "\n",
        "# The output shows the top 3 age ranges for patients with non-recurrent cancer and recurrent cancer. \n",
        "# The table shows that for patients with non-recurrent cancer, the most common age range is 50-59 with a count of 69, followed by 40-49 with a count of 62, and then 60-69 with a count of 38.\n",
        "# For patients with recurrent cancer, the most common age range is 40-49 with a count of 27, followed by 50-59 with a count of 22, and then 60-69 with a count of 17.\n",
        "# This suggests that the age range of 40-49 is the most common among patients with recurrent cancer, while the age range of 50-59 is the most common among patients with non-recurrent cancer."
      ],
      "metadata": {
        "colab": {
          "base_uri": "https://localhost:8080/"
        },
        "id": "rYHTDKvh1AW_",
        "outputId": "850017b0-91db-4aa0-ce6b-2e16174ab696"
      },
      "execution_count": null,
      "outputs": [
        {
          "output_type": "stream",
          "name": "stdout",
          "text": [
            "Top 3 age ranges for non-recurrent cancer:\n",
            "                  class age_range  counts\n",
            "3  no-recurrence-events     50-59      69\n",
            "2  no-recurrence-events     40-49      62\n",
            "4  no-recurrence-events     60-69      38\n",
            "\n",
            "Top 3 age ranges for recurrent cancer:\n",
            "               class age_range  counts\n",
            "7  recurrence-events     40-49      27\n",
            "8  recurrence-events     50-59      22\n",
            "9  recurrence-events     60-69      17\n"
          ]
        }
      ]
    },
    {
      "cell_type": "code",
      "source": [
        "# ONE-HOT ENCODE THE CATEGORICAL VARIABLES\n",
        "# Get the column names of dataframe\n",
        "columns = cancerdf.columns.tolist()\n",
        "# Remove the column to not one-hot encode\n",
        "columns.remove('class')\n",
        "# One-hot encode all columns except 'class'\n",
        "cancerdf_encoded = pd.get_dummies(cancerdf, columns=columns)\n",
        "\n",
        "# Replace \"no-recurrence-events\" with 0 and \"recurrence-events\" with 1\n",
        "cancerdf_encoded[\"class\"] = cancerdf_encoded[\"class\"].replace(\"no-recurrence-events\", 0).replace(\"recurrence-events\", 1)\n",
        "cancerdf_encoded.head()"
      ],
      "metadata": {
        "id": "8LMVudvqia0Q",
        "colab": {
          "base_uri": "https://localhost:8080/",
          "height": 317
        },
        "outputId": "bf250739-cddf-4e7d-8cdd-dde2caf7ecbb"
      },
      "execution_count": null,
      "outputs": [
        {
          "output_type": "execute_result",
          "data": {
            "text/plain": [
              "   class  age_20-29  age_30-39  age_40-49  age_50-59  age_60-69  age_70-79  \\\n",
              "0      0          0          1          0          0          0          0   \n",
              "1      0          0          0          1          0          0          0   \n",
              "2      0          0          0          1          0          0          0   \n",
              "3      0          0          0          0          0          1          0   \n",
              "4      0          0          0          1          0          0          0   \n",
              "\n",
              "   menopause_ge40  menopause_lt40  menopause_premeno  ...  \\\n",
              "0               0               0                  1  ...   \n",
              "1               0               0                  1  ...   \n",
              "2               0               0                  1  ...   \n",
              "3               1               0                  0  ...   \n",
              "4               0               0                  1  ...   \n",
              "\n",
              "   breast-quad_right_low  breast-quad_right_up  irradiat_no  irradiat_yes  \\\n",
              "0                      0                     0            1             0   \n",
              "1                      0                     1            1             0   \n",
              "2                      0                     0            1             0   \n",
              "3                      0                     0            1             0   \n",
              "4                      1                     0            1             0   \n",
              "\n",
              "   age_range_20-29  age_range_30-39  age_range_40-49  age_range_50-59  \\\n",
              "0                0                1                0                0   \n",
              "1                0                0                1                0   \n",
              "2                0                0                1                0   \n",
              "3                0                0                0                0   \n",
              "4                0                0                1                0   \n",
              "\n",
              "   age_range_60-69  age_range_70-79  \n",
              "0                0                0  \n",
              "1                0                0  \n",
              "2                0                0  \n",
              "3                1                0  \n",
              "4                0                0  \n",
              "\n",
              "[5 rows x 48 columns]"
            ],
            "text/html": [
              "\n",
              "  <div id=\"df-2c2af879-7159-48be-9def-18750df686d8\">\n",
              "    <div class=\"colab-df-container\">\n",
              "      <div>\n",
              "<style scoped>\n",
              "    .dataframe tbody tr th:only-of-type {\n",
              "        vertical-align: middle;\n",
              "    }\n",
              "\n",
              "    .dataframe tbody tr th {\n",
              "        vertical-align: top;\n",
              "    }\n",
              "\n",
              "    .dataframe thead th {\n",
              "        text-align: right;\n",
              "    }\n",
              "</style>\n",
              "<table border=\"1\" class=\"dataframe\">\n",
              "  <thead>\n",
              "    <tr style=\"text-align: right;\">\n",
              "      <th></th>\n",
              "      <th>class</th>\n",
              "      <th>age_20-29</th>\n",
              "      <th>age_30-39</th>\n",
              "      <th>age_40-49</th>\n",
              "      <th>age_50-59</th>\n",
              "      <th>age_60-69</th>\n",
              "      <th>age_70-79</th>\n",
              "      <th>menopause_ge40</th>\n",
              "      <th>menopause_lt40</th>\n",
              "      <th>menopause_premeno</th>\n",
              "      <th>...</th>\n",
              "      <th>breast-quad_right_low</th>\n",
              "      <th>breast-quad_right_up</th>\n",
              "      <th>irradiat_no</th>\n",
              "      <th>irradiat_yes</th>\n",
              "      <th>age_range_20-29</th>\n",
              "      <th>age_range_30-39</th>\n",
              "      <th>age_range_40-49</th>\n",
              "      <th>age_range_50-59</th>\n",
              "      <th>age_range_60-69</th>\n",
              "      <th>age_range_70-79</th>\n",
              "    </tr>\n",
              "  </thead>\n",
              "  <tbody>\n",
              "    <tr>\n",
              "      <th>0</th>\n",
              "      <td>0</td>\n",
              "      <td>0</td>\n",
              "      <td>1</td>\n",
              "      <td>0</td>\n",
              "      <td>0</td>\n",
              "      <td>0</td>\n",
              "      <td>0</td>\n",
              "      <td>0</td>\n",
              "      <td>0</td>\n",
              "      <td>1</td>\n",
              "      <td>...</td>\n",
              "      <td>0</td>\n",
              "      <td>0</td>\n",
              "      <td>1</td>\n",
              "      <td>0</td>\n",
              "      <td>0</td>\n",
              "      <td>1</td>\n",
              "      <td>0</td>\n",
              "      <td>0</td>\n",
              "      <td>0</td>\n",
              "      <td>0</td>\n",
              "    </tr>\n",
              "    <tr>\n",
              "      <th>1</th>\n",
              "      <td>0</td>\n",
              "      <td>0</td>\n",
              "      <td>0</td>\n",
              "      <td>1</td>\n",
              "      <td>0</td>\n",
              "      <td>0</td>\n",
              "      <td>0</td>\n",
              "      <td>0</td>\n",
              "      <td>0</td>\n",
              "      <td>1</td>\n",
              "      <td>...</td>\n",
              "      <td>0</td>\n",
              "      <td>1</td>\n",
              "      <td>1</td>\n",
              "      <td>0</td>\n",
              "      <td>0</td>\n",
              "      <td>0</td>\n",
              "      <td>1</td>\n",
              "      <td>0</td>\n",
              "      <td>0</td>\n",
              "      <td>0</td>\n",
              "    </tr>\n",
              "    <tr>\n",
              "      <th>2</th>\n",
              "      <td>0</td>\n",
              "      <td>0</td>\n",
              "      <td>0</td>\n",
              "      <td>1</td>\n",
              "      <td>0</td>\n",
              "      <td>0</td>\n",
              "      <td>0</td>\n",
              "      <td>0</td>\n",
              "      <td>0</td>\n",
              "      <td>1</td>\n",
              "      <td>...</td>\n",
              "      <td>0</td>\n",
              "      <td>0</td>\n",
              "      <td>1</td>\n",
              "      <td>0</td>\n",
              "      <td>0</td>\n",
              "      <td>0</td>\n",
              "      <td>1</td>\n",
              "      <td>0</td>\n",
              "      <td>0</td>\n",
              "      <td>0</td>\n",
              "    </tr>\n",
              "    <tr>\n",
              "      <th>3</th>\n",
              "      <td>0</td>\n",
              "      <td>0</td>\n",
              "      <td>0</td>\n",
              "      <td>0</td>\n",
              "      <td>0</td>\n",
              "      <td>1</td>\n",
              "      <td>0</td>\n",
              "      <td>1</td>\n",
              "      <td>0</td>\n",
              "      <td>0</td>\n",
              "      <td>...</td>\n",
              "      <td>0</td>\n",
              "      <td>0</td>\n",
              "      <td>1</td>\n",
              "      <td>0</td>\n",
              "      <td>0</td>\n",
              "      <td>0</td>\n",
              "      <td>0</td>\n",
              "      <td>0</td>\n",
              "      <td>1</td>\n",
              "      <td>0</td>\n",
              "    </tr>\n",
              "    <tr>\n",
              "      <th>4</th>\n",
              "      <td>0</td>\n",
              "      <td>0</td>\n",
              "      <td>0</td>\n",
              "      <td>1</td>\n",
              "      <td>0</td>\n",
              "      <td>0</td>\n",
              "      <td>0</td>\n",
              "      <td>0</td>\n",
              "      <td>0</td>\n",
              "      <td>1</td>\n",
              "      <td>...</td>\n",
              "      <td>1</td>\n",
              "      <td>0</td>\n",
              "      <td>1</td>\n",
              "      <td>0</td>\n",
              "      <td>0</td>\n",
              "      <td>0</td>\n",
              "      <td>1</td>\n",
              "      <td>0</td>\n",
              "      <td>0</td>\n",
              "      <td>0</td>\n",
              "    </tr>\n",
              "  </tbody>\n",
              "</table>\n",
              "<p>5 rows × 48 columns</p>\n",
              "</div>\n",
              "      <button class=\"colab-df-convert\" onclick=\"convertToInteractive('df-2c2af879-7159-48be-9def-18750df686d8')\"\n",
              "              title=\"Convert this dataframe to an interactive table.\"\n",
              "              style=\"display:none;\">\n",
              "        \n",
              "  <svg xmlns=\"http://www.w3.org/2000/svg\" height=\"24px\"viewBox=\"0 0 24 24\"\n",
              "       width=\"24px\">\n",
              "    <path d=\"M0 0h24v24H0V0z\" fill=\"none\"/>\n",
              "    <path d=\"M18.56 5.44l.94 2.06.94-2.06 2.06-.94-2.06-.94-.94-2.06-.94 2.06-2.06.94zm-11 1L8.5 8.5l.94-2.06 2.06-.94-2.06-.94L8.5 2.5l-.94 2.06-2.06.94zm10 10l.94 2.06.94-2.06 2.06-.94-2.06-.94-.94-2.06-.94 2.06-2.06.94z\"/><path d=\"M17.41 7.96l-1.37-1.37c-.4-.4-.92-.59-1.43-.59-.52 0-1.04.2-1.43.59L10.3 9.45l-7.72 7.72c-.78.78-.78 2.05 0 2.83L4 21.41c.39.39.9.59 1.41.59.51 0 1.02-.2 1.41-.59l7.78-7.78 2.81-2.81c.8-.78.8-2.07 0-2.86zM5.41 20L4 18.59l7.72-7.72 1.47 1.35L5.41 20z\"/>\n",
              "  </svg>\n",
              "      </button>\n",
              "      \n",
              "  <style>\n",
              "    .colab-df-container {\n",
              "      display:flex;\n",
              "      flex-wrap:wrap;\n",
              "      gap: 12px;\n",
              "    }\n",
              "\n",
              "    .colab-df-convert {\n",
              "      background-color: #E8F0FE;\n",
              "      border: none;\n",
              "      border-radius: 50%;\n",
              "      cursor: pointer;\n",
              "      display: none;\n",
              "      fill: #1967D2;\n",
              "      height: 32px;\n",
              "      padding: 0 0 0 0;\n",
              "      width: 32px;\n",
              "    }\n",
              "\n",
              "    .colab-df-convert:hover {\n",
              "      background-color: #E2EBFA;\n",
              "      box-shadow: 0px 1px 2px rgba(60, 64, 67, 0.3), 0px 1px 3px 1px rgba(60, 64, 67, 0.15);\n",
              "      fill: #174EA6;\n",
              "    }\n",
              "\n",
              "    [theme=dark] .colab-df-convert {\n",
              "      background-color: #3B4455;\n",
              "      fill: #D2E3FC;\n",
              "    }\n",
              "\n",
              "    [theme=dark] .colab-df-convert:hover {\n",
              "      background-color: #434B5C;\n",
              "      box-shadow: 0px 1px 3px 1px rgba(0, 0, 0, 0.15);\n",
              "      filter: drop-shadow(0px 1px 2px rgba(0, 0, 0, 0.3));\n",
              "      fill: #FFFFFF;\n",
              "    }\n",
              "  </style>\n",
              "\n",
              "      <script>\n",
              "        const buttonEl =\n",
              "          document.querySelector('#df-2c2af879-7159-48be-9def-18750df686d8 button.colab-df-convert');\n",
              "        buttonEl.style.display =\n",
              "          google.colab.kernel.accessAllowed ? 'block' : 'none';\n",
              "\n",
              "        async function convertToInteractive(key) {\n",
              "          const element = document.querySelector('#df-2c2af879-7159-48be-9def-18750df686d8');\n",
              "          const dataTable =\n",
              "            await google.colab.kernel.invokeFunction('convertToInteractive',\n",
              "                                                     [key], {});\n",
              "          if (!dataTable) return;\n",
              "\n",
              "          const docLinkHtml = 'Like what you see? Visit the ' +\n",
              "            '<a target=\"_blank\" href=https://colab.research.google.com/notebooks/data_table.ipynb>data table notebook</a>'\n",
              "            + ' to learn more about interactive tables.';\n",
              "          element.innerHTML = '';\n",
              "          dataTable['output_type'] = 'display_data';\n",
              "          await google.colab.output.renderOutput(dataTable, element);\n",
              "          const docLink = document.createElement('div');\n",
              "          docLink.innerHTML = docLinkHtml;\n",
              "          element.appendChild(docLink);\n",
              "        }\n",
              "      </script>\n",
              "    </div>\n",
              "  </div>\n",
              "  "
            ]
          },
          "metadata": {},
          "execution_count": 11
        }
      ]
    },
    {
      "cell_type": "code",
      "source": [
        "# Divide the data frame into input and output\n",
        "X = cancerdf_encoded.drop('class', axis=1)\n",
        "Y = cancerdf_encoded['class']"
      ],
      "metadata": {
        "id": "mXViFmEhPo4y"
      },
      "execution_count": null,
      "outputs": []
    },
    {
      "cell_type": "code",
      "source": [
        "# Split the data into training and test sets\n",
        "from sklearn.model_selection import train_test_split\n",
        "\n",
        "xtrain, xtest, ytrain, ytest = train_test_split(X, Y, test_size = 0.3)"
      ],
      "metadata": {
        "id": "DPddywOaQE-e"
      },
      "execution_count": null,
      "outputs": []
    },
    {
      "cell_type": "code",
      "source": [
        "# Import necessary libraries\n",
        "import tensorflow as tf\n",
        "from tensorflow import keras\n",
        "from tensorflow.python.keras import layers\n",
        "from tensorflow.python.keras.layers import Dropout"
      ],
      "metadata": {
        "id": "lRpPXgwYQOZE"
      },
      "execution_count": null,
      "outputs": []
    },
    {
      "cell_type": "code",
      "source": [
        "# Import regularizers\n",
        "from tensorflow.python.keras import regularizers\n",
        "# Create the model\n",
        "model = keras.Sequential()\n",
        "# Create a dense layer with 32 nodes using relu activation and a kernel regularizer to lower overfitting\n",
        "model.add(layers.Dense(32, kernel_regularizer=regularizers.l1(0.01), activation='relu'))\n",
        "# Create a dropout layer with a dropout rate of 0.5 to prevent overfitting\n",
        "model.add(Dropout(0.5))\n",
        "# Use a sigmoid function for the classification of two classes, recurrence-events or no-recurrence-events\n",
        "model.add(layers.Dense(1,activation='sigmoid'))"
      ],
      "metadata": {
        "id": "dHSykiW5QPAb"
      },
      "execution_count": null,
      "outputs": []
    },
    {
      "cell_type": "code",
      "source": [
        "from tensorflow.python.keras.callbacks import EarlyStopping\n",
        "\n",
        "# Implement early stop to monitor if the loss isn't improving after 10 epochs which helps to prevent overfitting\n",
        "early_stop = EarlyStopping(monitor='val_loss', patience=10)\n",
        "\n",
        "# Compile and train the model with binary cross entropy for loss function and adam optimizer\n",
        "model.compile(loss='binary_crossentropy', optimizer='adam', metrics=['accuracy'])\n",
        "# Use 300 epochs, using the xtest and ytest as validation data to better show the accuracy and callback to the early_stop function\n",
        "history = model.fit(xtrain, ytrain, epochs=300, validation_data=(xtest, ytest), callbacks=[early_stop])"
      ],
      "metadata": {
        "id": "mxLdkaGXiAxg",
        "colab": {
          "base_uri": "https://localhost:8080/"
        },
        "outputId": "53324d6d-b8d0-4962-819f-35f3d813adef"
      },
      "execution_count": null,
      "outputs": [
        {
          "output_type": "stream",
          "name": "stdout",
          "text": [
            "Epoch 1/300\n",
            "7/7 [==============================] - 1s 68ms/step - loss: 0.7513 - accuracy: 0.5130 - val_loss: 0.7480 - val_accuracy: 0.4524\n",
            "Epoch 2/300\n",
            "7/7 [==============================] - 0s 18ms/step - loss: 0.7077 - accuracy: 0.5596 - val_loss: 0.7054 - val_accuracy: 0.6548\n",
            "Epoch 3/300\n",
            "7/7 [==============================] - 0s 12ms/step - loss: 0.7000 - accuracy: 0.5699 - val_loss: 0.6729 - val_accuracy: 0.6905\n",
            "Epoch 4/300\n",
            "7/7 [==============================] - 0s 12ms/step - loss: 0.6699 - accuracy: 0.5959 - val_loss: 0.6461 - val_accuracy: 0.7500\n",
            "Epoch 5/300\n",
            "7/7 [==============================] - 0s 25ms/step - loss: 0.6546 - accuracy: 0.6373 - val_loss: 0.6253 - val_accuracy: 0.7619\n",
            "Epoch 6/300\n",
            "7/7 [==============================] - 0s 16ms/step - loss: 0.6844 - accuracy: 0.6114 - val_loss: 0.6099 - val_accuracy: 0.7738\n",
            "Epoch 7/300\n",
            "7/7 [==============================] - 0s 16ms/step - loss: 0.6690 - accuracy: 0.6010 - val_loss: 0.5938 - val_accuracy: 0.7738\n",
            "Epoch 8/300\n",
            "7/7 [==============================] - 0s 13ms/step - loss: 0.6592 - accuracy: 0.6218 - val_loss: 0.5834 - val_accuracy: 0.7738\n",
            "Epoch 9/300\n",
            "7/7 [==============================] - 0s 14ms/step - loss: 0.6178 - accuracy: 0.6425 - val_loss: 0.5803 - val_accuracy: 0.7738\n",
            "Epoch 10/300\n",
            "7/7 [==============================] - 0s 16ms/step - loss: 0.6163 - accuracy: 0.6736 - val_loss: 0.5780 - val_accuracy: 0.7738\n",
            "Epoch 11/300\n",
            "7/7 [==============================] - 0s 13ms/step - loss: 0.6006 - accuracy: 0.6684 - val_loss: 0.5758 - val_accuracy: 0.7738\n",
            "Epoch 12/300\n",
            "7/7 [==============================] - 0s 14ms/step - loss: 0.6404 - accuracy: 0.6528 - val_loss: 0.5716 - val_accuracy: 0.7738\n",
            "Epoch 13/300\n",
            "7/7 [==============================] - 0s 14ms/step - loss: 0.6219 - accuracy: 0.6788 - val_loss: 0.5657 - val_accuracy: 0.7738\n",
            "Epoch 14/300\n",
            "7/7 [==============================] - 0s 15ms/step - loss: 0.6005 - accuracy: 0.6736 - val_loss: 0.5596 - val_accuracy: 0.7738\n",
            "Epoch 15/300\n",
            "7/7 [==============================] - 0s 13ms/step - loss: 0.6008 - accuracy: 0.6684 - val_loss: 0.5573 - val_accuracy: 0.7619\n",
            "Epoch 16/300\n",
            "7/7 [==============================] - 0s 14ms/step - loss: 0.6106 - accuracy: 0.6425 - val_loss: 0.5526 - val_accuracy: 0.7619\n",
            "Epoch 17/300\n",
            "7/7 [==============================] - 0s 11ms/step - loss: 0.5657 - accuracy: 0.7150 - val_loss: 0.5503 - val_accuracy: 0.7619\n",
            "Epoch 18/300\n",
            "7/7 [==============================] - 0s 32ms/step - loss: 0.5993 - accuracy: 0.6788 - val_loss: 0.5460 - val_accuracy: 0.7619\n",
            "Epoch 19/300\n",
            "7/7 [==============================] - 0s 10ms/step - loss: 0.5883 - accuracy: 0.6891 - val_loss: 0.5404 - val_accuracy: 0.7619\n",
            "Epoch 20/300\n",
            "7/7 [==============================] - 0s 22ms/step - loss: 0.5687 - accuracy: 0.6839 - val_loss: 0.5357 - val_accuracy: 0.7619\n",
            "Epoch 21/300\n",
            "7/7 [==============================] - 0s 11ms/step - loss: 0.5640 - accuracy: 0.7254 - val_loss: 0.5315 - val_accuracy: 0.7619\n",
            "Epoch 22/300\n",
            "7/7 [==============================] - 0s 11ms/step - loss: 0.5825 - accuracy: 0.6891 - val_loss: 0.5285 - val_accuracy: 0.7500\n",
            "Epoch 23/300\n",
            "7/7 [==============================] - 0s 14ms/step - loss: 0.5733 - accuracy: 0.6839 - val_loss: 0.5302 - val_accuracy: 0.7500\n",
            "Epoch 24/300\n",
            "7/7 [==============================] - 0s 11ms/step - loss: 0.5598 - accuracy: 0.7098 - val_loss: 0.5320 - val_accuracy: 0.7500\n",
            "Epoch 25/300\n",
            "7/7 [==============================] - 0s 15ms/step - loss: 0.5699 - accuracy: 0.7150 - val_loss: 0.5305 - val_accuracy: 0.7738\n",
            "Epoch 26/300\n",
            "7/7 [==============================] - 0s 13ms/step - loss: 0.5661 - accuracy: 0.7150 - val_loss: 0.5327 - val_accuracy: 0.7857\n",
            "Epoch 27/300\n",
            "7/7 [==============================] - 0s 11ms/step - loss: 0.5873 - accuracy: 0.6736 - val_loss: 0.5323 - val_accuracy: 0.7738\n",
            "Epoch 28/300\n",
            "7/7 [==============================] - 0s 14ms/step - loss: 0.5432 - accuracy: 0.7150 - val_loss: 0.5295 - val_accuracy: 0.7738\n",
            "Epoch 29/300\n",
            "7/7 [==============================] - 0s 21ms/step - loss: 0.5610 - accuracy: 0.7047 - val_loss: 0.5255 - val_accuracy: 0.7738\n",
            "Epoch 30/300\n",
            "7/7 [==============================] - 0s 19ms/step - loss: 0.5507 - accuracy: 0.7202 - val_loss: 0.5201 - val_accuracy: 0.7857\n",
            "Epoch 31/300\n",
            "7/7 [==============================] - 0s 22ms/step - loss: 0.5658 - accuracy: 0.7254 - val_loss: 0.5127 - val_accuracy: 0.7857\n",
            "Epoch 32/300\n",
            "7/7 [==============================] - 0s 15ms/step - loss: 0.5487 - accuracy: 0.7254 - val_loss: 0.5069 - val_accuracy: 0.7857\n",
            "Epoch 33/300\n",
            "7/7 [==============================] - 0s 14ms/step - loss: 0.5577 - accuracy: 0.6891 - val_loss: 0.5079 - val_accuracy: 0.7857\n",
            "Epoch 34/300\n",
            "7/7 [==============================] - 0s 19ms/step - loss: 0.5575 - accuracy: 0.6943 - val_loss: 0.5056 - val_accuracy: 0.7857\n",
            "Epoch 35/300\n",
            "7/7 [==============================] - 0s 14ms/step - loss: 0.5457 - accuracy: 0.7202 - val_loss: 0.5037 - val_accuracy: 0.7738\n",
            "Epoch 36/300\n",
            "7/7 [==============================] - 0s 19ms/step - loss: 0.5824 - accuracy: 0.6891 - val_loss: 0.5035 - val_accuracy: 0.7738\n",
            "Epoch 37/300\n",
            "7/7 [==============================] - 0s 16ms/step - loss: 0.5478 - accuracy: 0.7254 - val_loss: 0.5024 - val_accuracy: 0.7857\n",
            "Epoch 38/300\n",
            "7/7 [==============================] - 0s 17ms/step - loss: 0.5604 - accuracy: 0.7047 - val_loss: 0.5007 - val_accuracy: 0.7857\n",
            "Epoch 39/300\n",
            "7/7 [==============================] - 0s 22ms/step - loss: 0.5129 - accuracy: 0.7565 - val_loss: 0.4995 - val_accuracy: 0.7857\n",
            "Epoch 40/300\n",
            "7/7 [==============================] - 0s 12ms/step - loss: 0.5219 - accuracy: 0.7513 - val_loss: 0.4967 - val_accuracy: 0.7976\n",
            "Epoch 41/300\n",
            "7/7 [==============================] - 0s 21ms/step - loss: 0.5414 - accuracy: 0.7254 - val_loss: 0.4954 - val_accuracy: 0.7976\n",
            "Epoch 42/300\n",
            "7/7 [==============================] - 0s 15ms/step - loss: 0.5218 - accuracy: 0.7306 - val_loss: 0.4943 - val_accuracy: 0.8095\n",
            "Epoch 43/300\n",
            "7/7 [==============================] - 0s 17ms/step - loss: 0.5238 - accuracy: 0.7409 - val_loss: 0.4928 - val_accuracy: 0.8095\n",
            "Epoch 44/300\n",
            "7/7 [==============================] - 0s 20ms/step - loss: 0.5130 - accuracy: 0.7461 - val_loss: 0.4904 - val_accuracy: 0.8095\n",
            "Epoch 45/300\n",
            "7/7 [==============================] - 0s 30ms/step - loss: 0.5427 - accuracy: 0.7202 - val_loss: 0.4880 - val_accuracy: 0.8095\n",
            "Epoch 46/300\n",
            "7/7 [==============================] - 0s 13ms/step - loss: 0.5277 - accuracy: 0.7306 - val_loss: 0.4883 - val_accuracy: 0.8214\n",
            "Epoch 47/300\n",
            "7/7 [==============================] - 0s 13ms/step - loss: 0.5083 - accuracy: 0.7617 - val_loss: 0.4869 - val_accuracy: 0.8214\n",
            "Epoch 48/300\n",
            "7/7 [==============================] - 0s 29ms/step - loss: 0.5289 - accuracy: 0.7254 - val_loss: 0.4852 - val_accuracy: 0.8214\n",
            "Epoch 49/300\n",
            "7/7 [==============================] - 0s 13ms/step - loss: 0.5158 - accuracy: 0.7668 - val_loss: 0.4864 - val_accuracy: 0.8333\n",
            "Epoch 50/300\n",
            "7/7 [==============================] - 0s 14ms/step - loss: 0.5181 - accuracy: 0.7565 - val_loss: 0.4862 - val_accuracy: 0.8333\n",
            "Epoch 51/300\n",
            "7/7 [==============================] - 0s 31ms/step - loss: 0.5664 - accuracy: 0.7098 - val_loss: 0.4890 - val_accuracy: 0.8452\n",
            "Epoch 52/300\n",
            "7/7 [==============================] - 0s 12ms/step - loss: 0.5088 - accuracy: 0.7824 - val_loss: 0.4923 - val_accuracy: 0.8452\n",
            "Epoch 53/300\n",
            "7/7 [==============================] - 0s 20ms/step - loss: 0.5198 - accuracy: 0.7306 - val_loss: 0.4921 - val_accuracy: 0.8333\n",
            "Epoch 54/300\n",
            "7/7 [==============================] - 0s 14ms/step - loss: 0.5000 - accuracy: 0.7668 - val_loss: 0.4894 - val_accuracy: 0.8452\n",
            "Epoch 55/300\n",
            "7/7 [==============================] - 0s 14ms/step - loss: 0.5130 - accuracy: 0.7565 - val_loss: 0.4867 - val_accuracy: 0.8452\n",
            "Epoch 56/300\n",
            "7/7 [==============================] - 0s 11ms/step - loss: 0.5132 - accuracy: 0.7461 - val_loss: 0.4843 - val_accuracy: 0.8452\n",
            "Epoch 57/300\n",
            "7/7 [==============================] - 0s 15ms/step - loss: 0.5099 - accuracy: 0.7668 - val_loss: 0.4816 - val_accuracy: 0.8452\n",
            "Epoch 58/300\n",
            "7/7 [==============================] - 0s 11ms/step - loss: 0.5105 - accuracy: 0.7565 - val_loss: 0.4787 - val_accuracy: 0.8452\n",
            "Epoch 59/300\n",
            "7/7 [==============================] - 0s 30ms/step - loss: 0.4929 - accuracy: 0.7513 - val_loss: 0.4766 - val_accuracy: 0.8452\n",
            "Epoch 60/300\n",
            "7/7 [==============================] - 0s 10ms/step - loss: 0.5092 - accuracy: 0.7772 - val_loss: 0.4752 - val_accuracy: 0.8452\n",
            "Epoch 61/300\n",
            "7/7 [==============================] - 0s 9ms/step - loss: 0.5014 - accuracy: 0.7565 - val_loss: 0.4739 - val_accuracy: 0.8452\n",
            "Epoch 62/300\n",
            "7/7 [==============================] - 0s 11ms/step - loss: 0.4996 - accuracy: 0.7668 - val_loss: 0.4762 - val_accuracy: 0.8571\n",
            "Epoch 63/300\n",
            "7/7 [==============================] - 0s 11ms/step - loss: 0.4942 - accuracy: 0.7617 - val_loss: 0.4768 - val_accuracy: 0.8571\n",
            "Epoch 64/300\n",
            "7/7 [==============================] - 0s 16ms/step - loss: 0.4995 - accuracy: 0.7979 - val_loss: 0.4768 - val_accuracy: 0.8571\n",
            "Epoch 65/300\n",
            "7/7 [==============================] - 0s 11ms/step - loss: 0.4918 - accuracy: 0.7668 - val_loss: 0.4755 - val_accuracy: 0.8571\n",
            "Epoch 66/300\n",
            "7/7 [==============================] - 0s 11ms/step - loss: 0.5185 - accuracy: 0.7617 - val_loss: 0.4732 - val_accuracy: 0.8571\n",
            "Epoch 67/300\n",
            "7/7 [==============================] - 0s 10ms/step - loss: 0.4928 - accuracy: 0.7772 - val_loss: 0.4717 - val_accuracy: 0.8571\n",
            "Epoch 68/300\n",
            "7/7 [==============================] - 0s 12ms/step - loss: 0.5171 - accuracy: 0.7617 - val_loss: 0.4682 - val_accuracy: 0.8571\n",
            "Epoch 69/300\n",
            "7/7 [==============================] - 0s 16ms/step - loss: 0.5110 - accuracy: 0.7617 - val_loss: 0.4648 - val_accuracy: 0.8571\n",
            "Epoch 70/300\n",
            "7/7 [==============================] - 0s 12ms/step - loss: 0.4853 - accuracy: 0.7668 - val_loss: 0.4637 - val_accuracy: 0.8571\n",
            "Epoch 71/300\n",
            "7/7 [==============================] - 0s 14ms/step - loss: 0.4888 - accuracy: 0.7772 - val_loss: 0.4621 - val_accuracy: 0.8571\n",
            "Epoch 72/300\n",
            "7/7 [==============================] - 0s 15ms/step - loss: 0.5034 - accuracy: 0.7617 - val_loss: 0.4612 - val_accuracy: 0.8571\n",
            "Epoch 73/300\n",
            "7/7 [==============================] - 0s 33ms/step - loss: 0.5069 - accuracy: 0.7513 - val_loss: 0.4590 - val_accuracy: 0.8571\n",
            "Epoch 74/300\n",
            "7/7 [==============================] - 0s 19ms/step - loss: 0.5013 - accuracy: 0.7513 - val_loss: 0.4581 - val_accuracy: 0.8452\n",
            "Epoch 75/300\n",
            "7/7 [==============================] - 0s 21ms/step - loss: 0.4948 - accuracy: 0.7565 - val_loss: 0.4591 - val_accuracy: 0.8452\n",
            "Epoch 76/300\n",
            "7/7 [==============================] - 0s 17ms/step - loss: 0.4922 - accuracy: 0.7409 - val_loss: 0.4671 - val_accuracy: 0.8571\n",
            "Epoch 77/300\n",
            "7/7 [==============================] - 0s 9ms/step - loss: 0.4816 - accuracy: 0.7927 - val_loss: 0.4693 - val_accuracy: 0.8571\n",
            "Epoch 78/300\n",
            "7/7 [==============================] - 0s 17ms/step - loss: 0.4923 - accuracy: 0.7668 - val_loss: 0.4701 - val_accuracy: 0.8571\n",
            "Epoch 79/300\n",
            "7/7 [==============================] - 0s 15ms/step - loss: 0.4913 - accuracy: 0.7720 - val_loss: 0.4685 - val_accuracy: 0.8571\n",
            "Epoch 80/300\n",
            "7/7 [==============================] - 0s 11ms/step - loss: 0.4778 - accuracy: 0.7720 - val_loss: 0.4701 - val_accuracy: 0.8452\n",
            "Epoch 81/300\n",
            "7/7 [==============================] - 0s 12ms/step - loss: 0.4730 - accuracy: 0.8135 - val_loss: 0.4722 - val_accuracy: 0.8571\n",
            "Epoch 82/300\n",
            "7/7 [==============================] - 0s 23ms/step - loss: 0.4611 - accuracy: 0.7824 - val_loss: 0.4758 - val_accuracy: 0.8571\n",
            "Epoch 83/300\n",
            "7/7 [==============================] - 0s 13ms/step - loss: 0.4784 - accuracy: 0.7824 - val_loss: 0.4771 - val_accuracy: 0.8571\n",
            "Epoch 84/300\n",
            "7/7 [==============================] - 0s 11ms/step - loss: 0.5011 - accuracy: 0.8031 - val_loss: 0.4765 - val_accuracy: 0.8571\n"
          ]
        }
      ]
    },
    {
      "cell_type": "code",
      "source": [
        "# The output shows that the final loss and accuracy of the test set was 0.4765 and 0.8571 respectively.\n",
        "# An accuracy of 0.8571 means that 85.71% of the instances in the test set were correctly classified by the model. This can be considered as a good performance for the model\n",
        "# Evalute the test sets\n",
        "model.evaluate(xtest, ytest)"
      ],
      "metadata": {
        "id": "zZS2Hvg-jfiV",
        "colab": {
          "base_uri": "https://localhost:8080/"
        },
        "outputId": "c3264b9e-ea40-4583-db4a-1c1ed670079b"
      },
      "execution_count": null,
      "outputs": [
        {
          "output_type": "stream",
          "name": "stdout",
          "text": [
            "3/3 [==============================] - 0s 6ms/step - loss: 0.4765 - accuracy: 0.8571\n"
          ]
        },
        {
          "output_type": "execute_result",
          "data": {
            "text/plain": [
              "[0.4765106737613678, 0.8571428656578064]"
            ]
          },
          "metadata": {},
          "execution_count": 17
        }
      ]
    },
    {
      "cell_type": "code",
      "source": [
        "# From this output, it shows that the model is performing well on the training set with an accuracy of 0.8135 and a loss of 0.4506\n",
        "# This indicates that the model has not overfitted to the training data and should generalize well to new unseen data\n",
        "# Evalute the training sets\n",
        "model.evaluate(xtrain,ytrain)"
      ],
      "metadata": {
        "id": "-156dnvJjgGr",
        "colab": {
          "base_uri": "https://localhost:8080/"
        },
        "outputId": "00249a40-a635-40b6-9371-143ea9bbfa66"
      },
      "execution_count": null,
      "outputs": [
        {
          "output_type": "stream",
          "name": "stdout",
          "text": [
            "7/7 [==============================] - 0s 3ms/step - loss: 0.4506 - accuracy: 0.8135\n"
          ]
        },
        {
          "output_type": "execute_result",
          "data": {
            "text/plain": [
              "[0.4506348669528961, 0.8134714961051941]"
            ]
          },
          "metadata": {},
          "execution_count": 18
        }
      ]
    },
    {
      "cell_type": "code",
      "source": [
        "# Initialize the confusion matrix\n",
        "import sklearn\n",
        "from sklearn.metrics import confusion_matrix\n",
        "ypred = (model.predict(xtest)>0.50).astype('int32')"
      ],
      "metadata": {
        "id": "F38RhMDpjh4i",
        "colab": {
          "base_uri": "https://localhost:8080/"
        },
        "outputId": "86317528-f687-45fd-d6ab-ac41cb767a9c"
      },
      "execution_count": null,
      "outputs": [
        {
          "output_type": "stream",
          "name": "stdout",
          "text": [
            "3/3 [==============================] - 0s 6ms/step\n"
          ]
        }
      ]
    },
    {
      "cell_type": "code",
      "source": [
        "# In this output, 62 is the number of true positives, 4 is the number of false positives, 8 is the number of false negatives, and 10 is the number of true negatives.\n",
        "# From this output, it can be said that the model has a good performance in terms of identifying true positives but has less accuracy with false negatives\n",
        "# Call the confusion matrix to test the results\n",
        "confusion_matrix(ytest, ypred)"
      ],
      "metadata": {
        "id": "tzfuYYjIjigx",
        "colab": {
          "base_uri": "https://localhost:8080/"
        },
        "outputId": "7eac2182-920d-46e3-a3d1-e19a26ccf298"
      },
      "execution_count": null,
      "outputs": [
        {
          "output_type": "execute_result",
          "data": {
            "text/plain": [
              "array([[62,  4],\n",
              "       [ 8, 10]])"
            ]
          },
          "metadata": {},
          "execution_count": 20
        }
      ]
    },
    {
      "cell_type": "code",
      "source": [
        "# From this plot, we can see that the testing accuracy starts form 0.45 and spikes up in between 0.80 and 0.75\n",
        "# As the epochs rise, the accuracy also gradually rises ultimately ending in 0.85 which is a good sign showing that the model improves as it reiterates\n",
        "# Plot the training accuracy\n",
        "plt.plot(history.history['val_accuracy'])\n",
        "plt.title('Testing accuracy')\n",
        "plt.xlabel('Epoch')\n",
        "plt.ylabel('Accuracy')\n",
        "plt.show()"
      ],
      "metadata": {
        "colab": {
          "base_uri": "https://localhost:8080/",
          "height": 295
        },
        "id": "hu5KUGKuPJ3n",
        "outputId": "e78d3114-ec6e-4cd7-cda0-6ce1a4a1b217"
      },
      "execution_count": null,
      "outputs": [
        {
          "output_type": "display_data",
          "data": {
            "text/plain": [
              "<Figure size 432x288 with 1 Axes>"
            ],
            "image/png": "[encoded data removed]"
          },
          "metadata": {
            "needs_background": "light"
          }
        }
      ]
    },
    {
      "cell_type": "code",
      "source": [
        "# From this graph, we can see that the training and testing sets have similar levels of loss and continually decreasing as it goes through more epochs\n",
        "# It can be inferred that there is minimal overtfitting with the dataset, suggesting an acceptable level of accuracy to the data\n",
        "# Plotting the loss\n",
        "plt.plot(history.history['loss'])\n",
        "plt.plot(history.history['val_loss'])\n",
        "plt.title('Model Loss')\n",
        "plt.ylabel('Loss')\n",
        "plt.xlabel('Epoch')\n",
        "plt.legend(['Train', 'Test'], loc='upper right')\n",
        "plt.show()"
      ],
      "metadata": {
        "colab": {
          "base_uri": "https://localhost:8080/",
          "height": 295
        },
        "id": "tbj6l3CEPMeM",
        "outputId": "e0582fe5-bd10-449c-837d-c8b7a24f3c7c"
      },
      "execution_count": null,
      "outputs": [
        {
          "output_type": "display_data",
          "data": {
            "text/plain": [
              "<Figure size 432x288 with 1 Axes>"
            ],
            "image/png": "[encoded data removed]"
          },
          "metadata": {
            "needs_background": "light"
          }
        }
      ]
    },
    {
      "cell_type": "code",
      "source": [
        "# To summarize all the findings, the column \"deg-malig\" has a mean of 2.05 and a standard deviation of 0.73, indicating that the majority of the tumors are moderately malignant.\n",
        "# The column \"inv-nodes\" has a majority of cases (43 out of 77) with 0-2 involved nodes. There are more non-recurrent cancer cases (101) than recurrent cancer cases (48) among patients with premenopause status.\n",
        "# Breast cancer occurs more frequently on the left side among both non-recurrent and recurrent cancer cases. The most common age range for patients with non-recurrent cancer is 50-59, followed by 40-49 and 60-69.\n",
        "# The most common age range for patients with recurrent cancer is 40-49, followed by 50-59 and 60-69. Evaluation of the test set has an accuracy of 85.71%. Evaluation of the training set has an accuracy of 81.35%.\n",
        "# Lastly, the confusion matrix shows 62 true positives, 10 true negatives, 8 false positives and 4 false negatives."
      ],
      "metadata": {
        "id": "GJo_GnV3hrAL"
      },
      "execution_count": null,
      "outputs": []
    }
  ]
}