{
 "cells": [
  {
   "cell_type": "code",
   "execution_count": 1,
   "metadata": {},
   "outputs": [],
   "source": [
    "# PATRICK PANGILINAN    C4A - BSCS\n",
    "import numpy as np\n",
    "\n",
    "# function definition for ReLU\n",
    "def relu(input):\n",
    "    output = max(input, 0) # prints out the rectified linear unit\n",
    "\n",
    "    return(output)\n",
    "\n",
    "# function definition for main neural network model\n",
    "def nmodel(input_data_group):\n",
    "    # OUTPUT and 0 HAVE EVEN BIAS\n",
    "    CONST_ODD_BIAS = 1\n",
    "    CONST_EVEN_BIAS = 0.27\n",
    "\n",
    "    # -- weights of hidden layer 1 --\n",
    "    wnode0 = [0.12,0.10,0.22]\n",
    "    wnode1 = [1,1,-1]\n",
    "\n",
    "    # -- weights of hidden layer 2 --\n",
    "    wnode2 = [0.55,0.66]\n",
    "    wnode3 = [0.77,0.55]\n",
    "    \n",
    "    # -- weights of hidden layer 3 --\n",
    "    wnode4 = [1,0.50]\n",
    "    wnode5 = [0.25,0.50]\n",
    "\n",
    "    # -- weights of output --\n",
    "    woutput = [0.25,0.75]\n",
    "\n",
    "    # -- hidden layer 1 --\n",
    "    hiddenInput0 = input_data_group[0] * wnode0[0] + input_data_group[1] * wnode0[1] + input_data_group[2] * wnode0[2] + CONST_EVEN_BIAS\n",
    "    ahiddenInput0 = relu(hiddenInput0) # RELU INPUTS will have \"a\" prepended against the hiddenInputs\n",
    "    hiddenInput1 = input_data_group[0] * wnode1[0] + input_data_group[1] * wnode1[1] + input_data_group[2] * wnode1[2] + CONST_ODD_BIAS\n",
    "    ahiddenInput1 = relu(hiddenInput1)\n",
    "\n",
    "    # -- hidden layer 2 --\n",
    "    hiddenInput2 = ahiddenInput0 * wnode2[0] + ahiddenInput1 * wnode2[1] + CONST_EVEN_BIAS\n",
    "    ahiddenInput2 = relu(hiddenInput2)\n",
    "    hiddenInput3 = ahiddenInput0 * wnode3[0] + ahiddenInput1 * wnode3[1] + CONST_ODD_BIAS\n",
    "    ahiddenInput3 = relu(hiddenInput3)\n",
    "\n",
    "    # -- hidden layer 3 --\n",
    "    hiddenInput4 = ahiddenInput2 * wnode4[0] + ahiddenInput3 * wnode4[1] + CONST_EVEN_BIAS\n",
    "    ahiddenInput4 = relu(hiddenInput4)\n",
    "    hiddenInput5 = ahiddenInput2 * wnode5[0] + ahiddenInput3 * wnode5[1] + CONST_ODD_BIAS\n",
    "    ahiddenInput5 = relu(hiddenInput5)\n",
    "\n",
    "    # OUTPUT\n",
    "    nodeoutput = ahiddenInput4 * woutput[0] + ahiddenInput5 * woutput[1] + CONST_EVEN_BIAS\n",
    "    final_output = 1.0 / (1.0 + np.exp(-nodeoutput)) # Activator function (1/1+e^-z)\n",
    "    \n",
    "    return (final_output)\n",
    "\n",
    "# Function definition for printing all predictions\n",
    "def printallpred(input_data_group):\n",
    "    for x in range(0, len(input_data_group)): # turns input_data_group into a 2D array and reads off all their inputs\n",
    "        print(\"The prediction for the input whose index is {} is {}\".format(x, nmodel(input_data_group[x]))) # prints predictions one by one through loop"
   ]
  },
  {
   "cell_type": "code",
   "execution_count": 2,
   "metadata": {},
   "outputs": [
    {
     "name": "stdout",
     "output_type": "stream",
     "text": [
      "The prediction for the input whose index is 0 is 0.9548431995293611\n",
      "The prediction for the input whose index is 1 is 0.9799727564969947\n",
      "The prediction for the input whose index is 2 is 0.9961982365667232\n"
     ]
    }
   ],
   "source": [
    "# INPUTS\n",
    "Input1 = [1, 2, 3]\n",
    "Input2 = [2, 3, 4]\n",
    "Input3 = [4, 5, 6]\n",
    "\n",
    "# call printallpred function and use the three given inputs\n",
    "printallpred([Input1, Input2, Input3])"
   ]
  }
 ],
 "metadata": {
  "kernelspec": {
   "display_name": "Python 3 (ipykernel)",
   "language": "python",
   "name": "python3"
  },
  "language_info": {
   "codemirror_mode": {
    "name": "ipython",
    "version": 3
   },
   "file_extension": ".py",
   "mimetype": "text/x-python",
   "name": "python",
   "nbconvert_exporter": "python",
   "pygments_lexer": "ipython3",
   "version": "3.10.6"
  },
  "vscode": {
   "interpreter": {
    "hash": "e7370f93d1d0cde622a1f8e1c04877d8463912d04d973331ad4851f04de6915a"
   }
  }
 },
 "nbformat": 4,
 "nbformat_minor": 2
}
